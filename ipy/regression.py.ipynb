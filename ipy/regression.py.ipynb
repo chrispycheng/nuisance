{
 "cells": [
  {
   "cell_type": "code",
   "execution_count": 1,
   "metadata": {},
   "outputs": [],
   "source": [
    "import numpy as np\n",
    "import matplotlib.pyplot as plt\n",
    "import pandas as pd\n",
    "import seaborn as sns\n",
    "%matplotlib inline"
   ]
  },
  {
   "cell_type": "code",
   "execution_count": 18,
   "metadata": {},
   "outputs": [
    {
     "name": "stdout",
     "output_type": "stream",
     "text": [
      "                                             filename        tsnr       SAR  \\\n",
      "0      sub-qa_ses-20170515_task-rest_acq-p2_bold.json  247.676819  0.055718   \n",
      "1   sub-qa_ses-20170515_task-rest_acq-p2Xs4X35mm_b...  281.640381  0.020951   \n",
      "2      sub-qa_ses-20170522_task-rest_acq-p2_bold.json  259.791901  0.055695   \n",
      "3   sub-qa_ses-20170522_task-rest_acq-p2Xs4X35mm_b...  279.601837  0.020943   \n",
      "4      sub-qa_ses-20170530_task-rest_acq-p2_bold.json  264.461914  0.055625   \n",
      "5   sub-qa_ses-20170530_task-rest_acq-p2Xs4X35mm_b...  263.224304  0.020917   \n",
      "6      sub-qa_ses-20170612_task-rest_acq-p2_bold.json  288.716065  0.055458   \n",
      "7   sub-qa_ses-20170612_task-rest_acq-p2Xs4X35mm_b...  291.626343  0.020854   \n",
      "8      sub-qa_ses-20170619_task-rest_acq-p2_bold.json  253.758545  0.055389   \n",
      "9   sub-qa_ses-20170619_task-rest_acq-p2Xs4X35mm_b...  291.835113  0.020828   \n",
      "10     sub-qa_ses-20170626_task-rest_acq-p2_bold.json  277.162415  0.000000   \n",
      "11  sub-qa_ses-20170626_task-rest_acq-p2Xs4X35mm_b...  288.613129  0.000000   \n",
      "12     sub-qa_ses-20170703_task-rest_acq-p2_bold.json  219.683289  0.055401   \n",
      "13  sub-qa_ses-20170703_task-rest_acq-p2Xs4X35mm_b...  248.258728  0.020832   \n",
      "14     sub-qa_ses-20170705_task-rest_acq-p2_bold.json  257.229858  0.055194   \n",
      "15  sub-qa_ses-20170705_task-rest_acq-p2Xs4X35mm_b...  245.626740  0.020754   \n",
      "16     sub-qa_ses-20170710_task-rest_acq-p2_bold.json  192.625687  0.055525   \n",
      "17  sub-qa_ses-20170710_task-rest_acq-p2Xs4X35mm_b...  222.091675  0.020879   \n",
      "18     sub-qa_ses-20170721_task-rest_acq-p2_bold.json  250.888245  0.055411   \n",
      "19  sub-qa_ses-20170721_task-rest_acq-p2Xs4X35mm_b...  281.591370  0.020836   \n",
      "20     sub-qa_ses-20170724_task-rest_acq-p2_bold.json  238.997772  0.055319   \n",
      "21  sub-qa_ses-20170724_task-rest_acq-p2Xs4X35mm_b...  259.751068  0.020802   \n",
      "22     sub-qa_ses-20170807_task-rest_acq-p2_bold.json  243.994553  0.055244   \n",
      "23  sub-qa_ses-20170807_task-rest_acq-p2Xs4X35mm_b...  255.664230  0.020773   \n",
      "24     sub-qa_ses-20170814_task-rest_acq-p2_bold.json  286.920196  0.055615   \n",
      "25  sub-qa_ses-20170814_task-rest_acq-p2Xs4X35mm_b...  298.398315  0.020913   \n",
      "26     sub-qa_ses-20170821_task-rest_acq-p2_bold.json  248.461441  0.055334   \n",
      "27  sub-qa_ses-20170821_task-rest_acq-p2Xs4X35mm_b...  245.396164  0.020807   \n",
      "28     sub-qa_ses-20170828_task-rest_acq-p2_bold.json  231.975571  0.055586   \n",
      "29  sub-qa_ses-20170828_task-rest_acq-p2Xs4X35mm_b...  260.857544  0.020902   \n",
      "..                                                ...         ...       ...   \n",
      "48     sub-qa_ses-20171106_task-rest_acq-p2_bold.json  247.116638  0.055609   \n",
      "49  sub-qa_ses-20171106_task-rest_acq-p2Xs4X35mm_b...  266.867432  0.020911   \n",
      "50     sub-qa_ses-20171113_task-rest_acq-p2_bold.json  269.111145  0.055755   \n",
      "51  sub-qa_ses-20171113_task-rest_acq-p2Xs4X35mm_b...  267.961426  0.020966   \n",
      "52     sub-qa_ses-20171120_task-rest_acq-p2_bold.json  179.026154  0.055607   \n",
      "53  sub-qa_ses-20171120_task-rest_acq-p2Xs4X35mm_b...  216.291107  0.020910   \n",
      "54     sub-qa_ses-20171127_task-rest_acq-p2_bold.json  259.208984  0.055471   \n",
      "55  sub-qa_ses-20171127_task-rest_acq-p2Xs4X35mm_b...  245.489594  0.020859   \n",
      "56     sub-qa_ses-20171204_task-rest_acq-p2_bold.json  244.788895  0.055769   \n",
      "57  sub-qa_ses-20171204_task-rest_acq-p2Xs4X35mm_b...  239.627441  0.020971   \n",
      "58     sub-qa_ses-20171218_task-rest_acq-p2_bold.json  275.013184  0.055781   \n",
      "59  sub-qa_ses-20171218_task-rest_acq-p2Xs4X35mm_b...  283.786591  0.020975   \n",
      "60            sub-qa_ses-20180102_acq-MPRAGE_T1w.json   54.843520  0.033227   \n",
      "61     sub-qa_ses-20180102_task-rest_acq-p2_bold.json  278.397003  0.055721   \n",
      "62  sub-qa_ses-20180102_task-rest_acq-p2Xs4X35mm_b...  286.286743  0.020953   \n",
      "63            sub-qa_ses-20180108_acq-MPRAGE_T1w.json   51.152603  0.028424   \n",
      "64     sub-qa_ses-20180108_task-rest_acq-p2_bold.json  237.592575  0.047666   \n",
      "65  sub-qa_ses-20180108_task-rest_acq-p2Xs4X35mm_b...  250.132690  0.017924   \n",
      "66            sub-qa_ses-20180115_acq-MPRAGE_T1w.json   56.041984  0.039198   \n",
      "67     sub-qa_ses-20180115_task-rest_acq-p2_bold.json  226.278900  0.065734   \n",
      "68  sub-qa_ses-20180115_task-rest_acq-p2Xs4X35mm_b...  229.663727  0.024718   \n",
      "69            sub-qa_ses-20180122_acq-MPRAGE_T1w.json   52.976081  0.033313   \n",
      "70     sub-qa_ses-20180122_task-rest_acq-p2_bold.json  251.457489  0.055866   \n",
      "71  sub-qa_ses-20180122_task-rest_acq-p2Xs4X35mm_b...  258.849853  0.021007   \n",
      "72            sub-qa_ses-20180129_acq-MPRAGE_T1w.json   48.414564  0.033188   \n",
      "73     sub-qa_ses-20180129_task-rest_acq-p2_bold.json  212.955887  0.055655   \n",
      "74  sub-qa_ses-20180129_task-rest_acq-p2Xs4X35mm_b...  219.630219  0.020928   \n",
      "75            sub-qa_ses-20180205_acq-MPRAGE_T1w.json   50.733794  0.039186   \n",
      "76     sub-qa_ses-20180205_task-rest_acq-p2_bold.json  228.632507  0.065715   \n",
      "77  sub-qa_ses-20180205_task-rest_acq-p2Xs4X35mm_b...  233.716766  0.024711   \n",
      "\n",
      "    AcquisitionTime  TxRefAmp  \n",
      "0              0.42     0.000  \n",
      "1              0.42     0.000  \n",
      "2              0.35     0.000  \n",
      "3              0.36     0.000  \n",
      "4              0.42     0.000  \n",
      "5              0.42     0.000  \n",
      "6              0.52     0.000  \n",
      "7              0.52     0.000  \n",
      "8              0.38     0.000  \n",
      "9              0.38     0.000  \n",
      "10             0.51     0.000  \n",
      "11             0.51     0.000  \n",
      "12             0.39     0.000  \n",
      "13             0.40     0.000  \n",
      "14             0.40     0.000  \n",
      "15             0.41     0.000  \n",
      "16             0.49     0.000  \n",
      "17             0.50     0.000  \n",
      "18             0.44     0.000  \n",
      "19             0.44     0.000  \n",
      "20             0.42     0.000  \n",
      "21             0.43     0.000  \n",
      "22             0.43     0.000  \n",
      "23             0.43     0.000  \n",
      "24             0.48     0.000  \n",
      "25             0.49     0.000  \n",
      "26             0.51     0.000  \n",
      "27             0.51     0.000  \n",
      "28             0.42     0.000  \n",
      "29             0.42     0.000  \n",
      "..              ...       ...  \n",
      "48             0.47     0.000  \n",
      "49             0.47     0.000  \n",
      "50             0.42     0.000  \n",
      "51             0.43     0.000  \n",
      "52             0.41     0.000  \n",
      "53             0.41     0.000  \n",
      "54             0.42     0.000  \n",
      "55             0.42     0.000  \n",
      "56             0.47     0.000  \n",
      "57             0.47     0.000  \n",
      "58             0.39     0.000  \n",
      "59             0.40     0.000  \n",
      "60             0.49   227.526  \n",
      "61             0.48   227.526  \n",
      "62             0.48   227.526  \n",
      "63             0.40   231.071  \n",
      "64             0.39   231.071  \n",
      "65             0.39   231.071  \n",
      "66             0.42   226.420  \n",
      "67             0.41   226.420  \n",
      "68             0.41   226.420  \n",
      "69             0.63   233.036  \n",
      "70             0.61   233.036  \n",
      "71             0.62   233.036  \n",
      "72             0.43   235.564  \n",
      "73             0.42   235.564  \n",
      "74             0.42   235.564  \n",
      "75             0.44   231.349  \n",
      "76             0.42   231.349  \n",
      "77             0.43   231.349  \n",
      "\n",
      "[78 rows x 5 columns]\n"
     ]
    }
   ],
   "source": [
    "files = pd.read_csv('extraction.csv')\n",
    "X = files.iloc[:, 2:].values\n",
    "Y = files.iloc[:, 1].values\n",
    "\n",
    "print(files)"
   ]
  },
  {
   "cell_type": "code",
   "execution_count": 12,
   "metadata": {},
   "outputs": [
    {
     "data": {
      "text/plain": [
       "<matplotlib.axes._subplots.AxesSubplot at 0x1a14743d30>"
      ]
     },
     "execution_count": 12,
     "metadata": {},
     "output_type": "execute_result"
    },
    {
     "data": {
      "image/png": "[encoded data removed]",
      "text/plain": [
       "<matplotlib.figure.Figure at 0x1a1483e3c8>"
      ]
     },
     "metadata": {},
     "output_type": "display_data"
    }
   ],
   "source": [
    "sns.heatmap(files.corr(), cmap=sns.diverging_palette(h_neg=256, h_pos=10, n=16, center=\"dark\"))"
   ]
  },
  {
   "cell_type": "code",
   "execution_count": 24,
   "metadata": {},
   "outputs": [],
   "source": [
    "from sklearn.preprocessing import OneHotEncoder\n",
    "onehotencoder = OneHotEncoder(categorical_features=[2])\n",
    "X = onehotencoder.fit_transform(X).toarray()"
   ]
  },
  {
   "cell_type": "code",
   "execution_count": 16,
   "metadata": {},
   "outputs": [],
   "source": [
    "X = X[1:]"
   ]
  },
  {
   "cell_type": "code",
   "execution_count": 25,
   "metadata": {},
   "outputs": [],
   "source": [
    "from sklearn.model_selection import train_test_split\n",
    "X_train, X_test, y_train, y_test = train_test_split(X, Y, test_size=0.2, random_state=0)"
   ]
  },
  {
   "cell_type": "code",
   "execution_count": 26,
   "metadata": {},
   "outputs": [
    {
     "data": {
      "text/plain": [
       "LinearRegression(copy_X=True, fit_intercept=True, n_jobs=1, normalize=False)"
      ]
     },
     "execution_count": 26,
     "metadata": {},
     "output_type": "execute_result"
    }
   ],
   "source": [
    "from sklearn.linear_model import LinearRegression\n",
    "regressor = LinearRegression()\n",
    "regressor.fit(X_train, y_train)"
   ]
  },
  {
   "cell_type": "code",
   "execution_count": 27,
   "metadata": {},
   "outputs": [
    {
     "data": {
      "text/plain": [
       "array([263.05761854, 264.40596138, 246.43539069, 241.85535956,\n",
       "       261.09473381, 253.84737875, 121.47709615, 238.4988095 ,\n",
       "       248.03358686, 263.03160985, 249.40758464, 176.64177762,\n",
       "       244.0861637 , 243.43055915, 247.964421  , 250.28961777])"
      ]
     },
     "execution_count": 27,
     "metadata": {},
     "output_type": "execute_result"
    }
   ],
   "source": [
    "y_pred = regressor.predict(X_test)\n",
    "y_pred"
   ]
  },
  {
   "cell_type": "code",
   "execution_count": 28,
   "metadata": {},
   "outputs": [
    {
     "name": "stdout",
     "output_type": "stream",
     "text": [
      "[  52.87399904  -28.01726389  -33.84947697   37.20591056   43.82002384\n",
      "  -72.03319257 -432.98750552   32.5869492 ]\n",
      "203.9218195813673\n"
     ]
    }
   ],
   "source": [
    "print(regressor.coef_)\n",
    "print(regressor.intercept_)"
   ]
  },
  {
   "cell_type": "code",
   "execution_count": 31,
   "metadata": {},
   "outputs": [],
   "source": [
    "from sklearn.metrics import r2_score"
   ]
  },
  {
   "cell_type": "code",
   "execution_count": 32,
   "metadata": {},
   "outputs": [
    {
     "data": {
      "text/plain": [
       "-0.2979349573121246"
      ]
     },
     "execution_count": 32,
     "metadata": {},
     "output_type": "execute_result"
    }
   ],
   "source": [
    "r2_score(y_test, y_pred)"
   ]
  },
  {
   "cell_type": "code",
   "execution_count": null,
   "metadata": {},
   "outputs": [],
   "source": []
  }
 ],
 "metadata": {
  "kernelspec": {
   "display_name": "Python 3",
   "language": "python",
   "name": "python3"
  },
  "language_info": {
   "codemirror_mode": {
    "name": "ipython",
    "version": 3
   },
   "file_extension": ".py",
   "mimetype": "text/x-python",
   "name": "python",
   "nbconvert_exporter": "python",
   "pygments_lexer": "ipython3",
   "version": "3.6.4"
  }
 },
 "nbformat": 4,
 "nbformat_minor": 2
}
