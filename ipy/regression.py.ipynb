{
 "cells": [
  {
   "cell_type": "code",
   "execution_count": 1,
   "metadata": {},
   "outputs": [],
   "source": [
    "import numpy as np\n",
    "import matplotlib.pyplot as plt\n",
    "import pandas as pd\n",
    "import seaborn as sns\n",
    "%matplotlib inline"
   ]
  },
  {
   "cell_type": "code",
   "execution_count": 4,
   "metadata": {},
   "outputs": [
    {
     "name": "stdout",
     "output_type": "stream",
     "text": [
      "         date                                         filesuffix        tsnr  \\\n",
      "0    20161128       -20161128_task-rest_acq-p2Xs4X35mm_bold.json  230.103912   \n",
      "1    20161128               -20161128_task-rest_acq-p2_bold.json  239.879349   \n",
      "2    20161128      -20161128_task-rest_acq-p2_rec-moco_bold.json  239.181503   \n",
      "3    20161205       -20161205_task-rest_acq-p2Xs4X35mm_bold.json  226.028854   \n",
      "4    20161205               -20161205_task-rest_acq-p2_bold.json  245.208572   \n",
      "5    20161205      -20161205_task-rest_acq-p2_rec-moco_bold.json  243.498505   \n",
      "6    20161212       -20161212_task-rest_acq-p2Xs4X35mm_bold.json  228.845230   \n",
      "7    20161212               -20161212_task-rest_acq-p2_bold.json  205.039551   \n",
      "8    20161212      -20161212_task-rest_acq-p2_rec-moco_bold.json  207.309174   \n",
      "9    20161219       -20161219_task-rest_acq-p2Xs4X35mm_bold.json  207.193359   \n",
      "10   20161219               -20161219_task-rest_acq-p2_bold.json  223.930527   \n",
      "11   20161219      -20161219_task-rest_acq-p2_rec-moco_bold.json  222.884842   \n",
      "12   20170103       -20170103_task-rest_acq-p2Xs4X35mm_bold.json  172.502716   \n",
      "13   20170103               -20170103_task-rest_acq-p2_bold.json  180.165283   \n",
      "14   20170103      -20170103_task-rest_acq-p2_rec-moco_bold.json  182.036133   \n",
      "15   20170109       -20170109_task-rest_acq-p2Xs4X35mm_bold.json  223.143097   \n",
      "16   20170109               -20170109_task-rest_acq-p2_bold.json  246.492493   \n",
      "17   20170109      -20170109_task-rest_acq-p2_rec-moco_bold.json  251.602051   \n",
      "18   20170117       -20170117_task-rest_acq-p2Xs4X35mm_bold.json  243.786545   \n",
      "19   20170117               -20170117_task-rest_acq-p2_bold.json  237.618591   \n",
      "20   20170117      -20170117_task-rest_acq-p2_rec-moco_bold.json  236.930511   \n",
      "21   20170123       -20170123_task-rest_acq-p2Xs4X35mm_bold.json  199.646423   \n",
      "22   20170123               -20170123_task-rest_acq-p2_bold.json  190.646790   \n",
      "23   20170123      -20170123_task-rest_acq-p2_rec-moco_bold.json  192.393082   \n",
      "24   20170130       -20170130_task-rest_acq-p2Xs4X35mm_bold.json  244.466827   \n",
      "25   20170130               -20170130_task-rest_acq-p2_bold.json  257.484131   \n",
      "26   20170130      -20170130_task-rest_acq-p2_rec-moco_bold.json  256.910187   \n",
      "27   20170206       -20170206_task-rest_acq-p2Xs4X35mm_bold.json  254.696136   \n",
      "28   20170206               -20170206_task-rest_acq-p2_bold.json  235.091019   \n",
      "29   20170206  -20170206_task-rest_acq-p2noprescannormalize_b...  240.517441   \n",
      "..        ...                                                ...         ...   \n",
      "163  20180604       -20180604_task-rest_acq-p2Xs4X35mm_bold.json  261.306213   \n",
      "164  20180604               -20180604_task-rest_acq-p2_bold.json  247.724991   \n",
      "165  20180611       -20180611_task-rest_acq-p2Xs4X35mm_bold.json  254.617249   \n",
      "166  20180611               -20180611_task-rest_acq-p2_bold.json  258.916473   \n",
      "167  20180618       -20180618_task-rest_acq-p2Xs4X35mm_bold.json  242.962845   \n",
      "168  20180618               -20180618_task-rest_acq-p2_bold.json  222.139175   \n",
      "169  20180625       -20180625_task-rest_acq-p2Xs4X35mm_bold.json  236.210754   \n",
      "170  20180625               -20180625_task-rest_acq-p2_bold.json  218.706238   \n",
      "171  20180702       -20180702_task-rest_acq-p2Xs4X35mm_bold.json  267.851013   \n",
      "172  20180702               -20180702_task-rest_acq-p2_bold.json  238.840164   \n",
      "173  20180709       -20180709_task-rest_acq-p2Xs4X35mm_bold.json  250.284134   \n",
      "174  20180709               -20180709_task-rest_acq-p2_bold.json  228.535736   \n",
      "175  20180723       -20180723_task-rest_acq-p2Xs4X35mm_bold.json  276.698059   \n",
      "176  20180723               -20180723_task-rest_acq-p2_bold.json  262.718170   \n",
      "177  20180730       -20180730_task-rest_acq-p2Xs4X35mm_bold.json  227.207550   \n",
      "178  20180730               -20180730_task-rest_acq-p2_bold.json  232.285080   \n",
      "179  20180809       -20180809_task-rest_acq-p2Xs4X35mm_bold.json  273.850891   \n",
      "180  20180809               -20180809_task-rest_acq-p2_bold.json  263.765137   \n",
      "181  20180813       -20180813_task-rest_acq-p2Xs4X35mm_bold.json  251.972931   \n",
      "182  20180813               -20180813_task-rest_acq-p2_bold.json  220.126251   \n",
      "183  20180813       -20180813_task-rest_acq-p2Xs4X35mm_bold.json  251.972931   \n",
      "184  20180813               -20180813_task-rest_acq-p2_bold.json  220.126251   \n",
      "185  20180820       -20180820_task-rest_acq-p2Xs4X35mm_bold.json  277.156128   \n",
      "186  20180820               -20180820_task-rest_acq-p2_bold.json  269.916321   \n",
      "187  20180827       -20180827_task-rest_acq-p2Xs4X35mm_bold.json  259.941406   \n",
      "188  20180827               -20180827_task-rest_acq-p2_bold.json  244.190399   \n",
      "189  20180904       -20180904_task-rest_acq-p2Xs4X35mm_bold.json  233.226807   \n",
      "190  20180904               -20180904_task-rest_acq-p2_bold.json  210.394287   \n",
      "191  20180910       -20180910_task-rest_acq-p2Xs4X35mm_bold.json  253.593872   \n",
      "192  20180910               -20180910_task-rest_acq-p2_bold.json  250.196701   \n",
      "\n",
      "          SAR  AcquisitionTime  TxRefAmp   \n",
      "0    0.077002  10:23:58.175000    231.529  \n",
      "1    0.055556  10:18:31.772500    231.529  \n",
      "2    0.055556  10:18:31.772500    231.529  \n",
      "3    0.065921  10:28:32.192500    230.405  \n",
      "4    0.047561   10:23:6.190000    230.405  \n",
      "5    0.047561   10:23:6.190000    230.405  \n",
      "6    0.066209  10:41:49.187500    235.985  \n",
      "7    0.047769  10:36:23.197500    235.985  \n",
      "8    0.047769  10:36:23.197500    235.985  \n",
      "9    0.077200  09:57:18.177500    233.132  \n",
      "10   0.055699  09:51:51.605000    233.132  \n",
      "11   0.055699  09:51:51.605000    233.132  \n",
      "12   0.077096  11:19:35.187500    254.996  \n",
      "13   0.055624   11:14:8.792500    254.996  \n",
      "14   0.055624   11:14:8.792500    254.996  \n",
      "15   0.077234   10:33:5.212500    220.502  \n",
      "16   0.055723  10:27:39.207500    220.502  \n",
      "17   0.055723  10:27:39.207500    220.502  \n",
      "18   0.077350  09:17:36.205000    232.744  \n",
      "19   0.055807   09:12:9.792500    232.744  \n",
      "20   0.055807   09:12:9.792500    232.744  \n",
      "21   0.077266  09:04:27.165000    230.800  \n",
      "22   0.055747   08:59:0.820000    230.800  \n",
      "23   0.055747   08:59:0.820000    230.800  \n",
      "24   0.077177  09:14:43.122500    239.284  \n",
      "25   0.055683  09:09:16.792500    239.284  \n",
      "26   0.055683  09:09:16.792500    239.284  \n",
      "27   0.021036  09:47:16.162500    228.467  \n",
      "28   0.055883  09:41:47.605000    228.467  \n",
      "29   0.055883  09:54:15.510000    228.467  \n",
      "..        ...              ...        ...  \n",
      "163  0.020798  13:30:22.140000    233.526  \n",
      "164  0.055310  13:23:27.605000    233.526  \n",
      "165  0.020858  10:43:53.210000    235.423  \n",
      "166  0.055470  10:36:59.195000    235.423  \n",
      "167  0.020891  09:48:19.147500    236.930  \n",
      "168  0.055556  09:41:24.805000    236.930  \n",
      "169  0.020829  11:19:59.157500    234.779  \n",
      "170  0.055392   11:13:4.805000    234.779  \n",
      "171  0.020957  10:48:25.122500    235.951  \n",
      "172  0.055733  10:41:30.807500    235.951  \n",
      "173  0.020871  09:56:33.142500    234.563  \n",
      "174  0.055504  09:49:38.827500    234.563  \n",
      "175  0.020895  09:02:52.157500    234.672  \n",
      "176  0.055567  08:55:57.195000    234.672  \n",
      "177  0.020830  13:15:29.125000    236.183  \n",
      "178  0.055396  13:08:35.200000    236.183  \n",
      "179  0.020897  12:41:32.140000    235.417  \n",
      "180  0.055573  12:34:37.197500    235.417  \n",
      "181  0.020844  09:27:38.232500    235.016  \n",
      "182  0.055433  09:20:44.130000    235.016  \n",
      "183  0.020844  09:27:38.232500    235.016  \n",
      "184  0.055433  09:20:44.130000    235.016  \n",
      "185  0.020912  12:42:34.170000    235.455  \n",
      "186  0.055612  12:35:39.205000    235.455  \n",
      "187  0.017880   11:25:7.140000    238.067  \n",
      "188  0.047549  11:18:12.202500    238.067  \n",
      "189  0.020858  09:48:43.137500    233.861  \n",
      "190  0.055469  09:41:48.792500    233.861  \n",
      "191  0.020838  12:28:20.132500    234.145  \n",
      "192  0.055416  12:21:26.200000    234.145  \n",
      "\n",
      "[193 rows x 6 columns]\n"
     ]
    }
   ],
   "source": [
    "files = pd.read_csv('../data/extractions/mriqc_extraction.csv')\n",
    "X = files.iloc[:, 2:].values\n",
    "Y = files.iloc[:, 1].values\n",
    "\n",
    "print(files)"
   ]
  },
  {
   "cell_type": "code",
   "execution_count": 15,
   "metadata": {
    "scrolled": true
   },
   "outputs": [
    {
     "data": {
      "text/plain": [
       "<matplotlib.axes._subplots.AxesSubplot at 0x1a213b6d30>"
      ]
     },
     "execution_count": 15,
     "metadata": {},
     "output_type": "execute_result"
    },
    {
     "data": {
      "image/png": "[encoded data removed]",
      "text/plain": [
       "<matplotlib.figure.Figure at 0x1a213929b0>"
      ]
     },
     "metadata": {},
     "output_type": "display_data"
    }
   ],
   "source": [
    "sns.heatmap(files.corr(), cmap=sns.diverging_palette(h_neg=256, h_pos=10, n=16, sep=1, center=\"dark\"), center=0)"
   ]
  },
  {
   "cell_type": "code",
   "execution_count": 269,
   "metadata": {},
   "outputs": [],
   "source": [
    "from sklearn.preprocessing import OneHotEncoder\n",
    "onehotencoder = OneHotEncoder(categorical_features=[1])\n",
    "X = onehotencoder.fit_transform(X).toarray()"
   ]
  },
  {
   "cell_type": "code",
   "execution_count": 6,
   "metadata": {},
   "outputs": [],
   "source": [
    "X = X[1:]"
   ]
  },
  {
   "cell_type": "code",
   "execution_count": 270,
   "metadata": {},
   "outputs": [],
   "source": [
    "from sklearn.model_selection import train_test_split\n",
    "X_train, X_test, y_train, y_test = train_test_split(X, Y, test_size=0.2, random_state=0)"
   ]
  },
  {
   "cell_type": "code",
   "execution_count": 271,
   "metadata": {},
   "outputs": [
    {
     "data": {
      "text/plain": [
       "LinearRegression(copy_X=True, fit_intercept=True, n_jobs=1, normalize=False)"
      ]
     },
     "execution_count": 271,
     "metadata": {},
     "output_type": "execute_result"
    }
   ],
   "source": [
    "from sklearn.linear_model import LinearRegression\n",
    "regressor = LinearRegression()\n",
    "regressor.fit(X_train, y_train)"
   ]
  },
  {
   "cell_type": "code",
   "execution_count": 272,
   "metadata": {},
   "outputs": [
    {
     "data": {
      "text/plain": [
       "array([250.82626208, 250.87705344, 233.85287582, 247.14345726,\n",
       "       250.81758142, 244.74670452, 233.79502239, 241.8678562 ,\n",
       "       233.81760956, 250.79681773, 233.89744478, 250.80561898,\n",
       "       233.77573415, 233.69169168, 233.73930714, 237.84731683])"
      ]
     },
     "execution_count": 272,
     "metadata": {},
     "output_type": "execute_result"
    }
   ],
   "source": [
    "y_pred = regressor.predict(X_test)\n",
    "y_pred"
   ]
  },
  {
   "cell_type": "code",
   "execution_count": 273,
   "metadata": {},
   "outputs": [
    {
     "name": "stdout",
     "output_type": "stream",
     "text": [
      "[   0.         -490.18360608]\n",
      "261.07633804014586\n"
     ]
    }
   ],
   "source": [
    "print(regressor.coef_)\n",
    "print(regressor.intercept_)"
   ]
  },
  {
   "cell_type": "code",
   "execution_count": 274,
   "metadata": {},
   "outputs": [],
   "source": [
    "from sklearn.metrics import r2_score"
   ]
  },
  {
   "cell_type": "code",
   "execution_count": 275,
   "metadata": {},
   "outputs": [
    {
     "data": {
      "text/plain": [
       "-0.13461720069271044"
      ]
     },
     "execution_count": 275,
     "metadata": {},
     "output_type": "execute_result"
    }
   ],
   "source": [
    "r2_score(y_test, y_pred)"
   ]
  },
  {
   "cell_type": "code",
   "execution_count": 258,
   "metadata": {},
   "outputs": [
    {
     "data": {
      "text/plain": [
       "1.0"
      ]
     },
     "execution_count": 258,
     "metadata": {},
     "output_type": "execute_result"
    }
   ],
   "source": [
    "regressor.score(X_test, y_pred)"
   ]
  },
  {
   "cell_type": "code",
   "execution_count": 260,
   "metadata": {},
   "outputs": [
    {
     "data": {
      "image/png": "[encoded data removed]",
      "text/plain": [
       "<matplotlib.figure.Figure at 0x1a17275588>"
      ]
     },
     "metadata": {},
     "output_type": "display_data"
    }
   ],
   "source": [
    "plt.scatter(X_test[:,3], y_test,color='g')\n",
    "plt.plot(X_test[:,3], y_pred, color='k')\n",
    "plt.show()"
   ]
  },
  {
   "cell_type": "code",
   "execution_count": 169,
   "metadata": {},
   "outputs": [
    {
     "name": "stdout",
     "output_type": "stream",
     "text": [
      "KFold(n_splits=2, random_state=None, shuffle=False)\n",
      "TRAIN:[39 40 41 42 43 44 45 46 47 48 49 50 51 52 53 54 55 56 57 58 59 60 61 62\n",
      " 63 64 65 66 67 68 69 70 71 72 73 74 75 76 77]TEST:[ 0  1  2  3  4  5  6  7  8  9 10 11 12 13 14 15 16 17 18 19 20 21 22 23\n",
      " 24 25 26 27 28 29 30 31 32 33 34 35 36 37 38]\n",
      "TRAIN:[ 0  1  2  3  4  5  6  7  8  9 10 11 12 13 14 15 16 17 18 19 20 21 22 23\n",
      " 24 25 26 27 28 29 30 31 32 33 34 35 36 37 38]TEST:[39 40 41 42 43 44 45 46 47 48 49 50 51 52 53 54 55 56 57 58 59 60 61 62\n",
      " 63 64 65 66 67 68 69 70 71 72 73 74 75 76 77]\n"
     ]
    }
   ],
   "source": [
    "from sklearn.model_selection import KFold # import KFold\n",
    "kf = KFold(n_splits=2) # Define the split - into 2 folds \n",
    "kf.get_n_splits(X) # returns the number of splitting iterations in the cross-validator\n",
    "print(kf) \n",
    "KFold(n_splits=2, random_state=None, shuffle=False)\n",
    "\n",
    "for train_index, test_index in kf.split(X):\n",
    "    print(\"TRAIN:\" + str(train_index) + \"TEST:\" + str(test_index))\n",
    "    X_train, X_test = X[train_index], X[test_index]\n",
    "    y_train, y_test = Y[train_index], Y[test_index]"
   ]
  },
  {
   "cell_type": "code",
   "execution_count": 170,
   "metadata": {},
   "outputs": [
    {
     "ename": "ValueError",
     "evalue": "x and y must be the same size",
     "output_type": "error",
     "traceback": [
      "\u001b[0;31m---------------------------------------------------------------------------\u001b[0m",
      "\u001b[0;31mValueError\u001b[0m                                Traceback (most recent call last)",
      "\u001b[0;32m<ipython-input-170-b7dc9658f968>\u001b[0m in \u001b[0;36m<module>\u001b[0;34m()\u001b[0m\n\u001b[1;32m      3\u001b[0m \u001b[0;34m\u001b[0m\u001b[0m\n\u001b[1;32m      4\u001b[0m \u001b[0mhello\u001b[0m \u001b[0;34m=\u001b[0m \u001b[0mcross_val_predict\u001b[0m\u001b[0;34m(\u001b[0m\u001b[0mregressor\u001b[0m\u001b[0;34m,\u001b[0m \u001b[0mX\u001b[0m\u001b[0;34m,\u001b[0m \u001b[0mY\u001b[0m\u001b[0;34m,\u001b[0m \u001b[0mcv\u001b[0m\u001b[0;34m=\u001b[0m\u001b[0;36m6\u001b[0m\u001b[0;34m)\u001b[0m\u001b[0;34m\u001b[0m\u001b[0m\n\u001b[0;32m----> 5\u001b[0;31m \u001b[0mplt\u001b[0m\u001b[0;34m.\u001b[0m\u001b[0mscatter\u001b[0m\u001b[0;34m(\u001b[0m\u001b[0mX_test\u001b[0m\u001b[0;34m[\u001b[0m\u001b[0;34m:\u001b[0m\u001b[0;34m,\u001b[0m\u001b[0;36m1\u001b[0m\u001b[0;34m]\u001b[0m\u001b[0;34m,\u001b[0m \u001b[0mhello\u001b[0m\u001b[0;34m)\u001b[0m\u001b[0;34m\u001b[0m\u001b[0m\n\u001b[0m\u001b[1;32m      6\u001b[0m \u001b[0mplt\u001b[0m\u001b[0;34m.\u001b[0m\u001b[0mplot\u001b[0m\u001b[0;34m(\u001b[0m\u001b[0mX_test\u001b[0m\u001b[0;34m[\u001b[0m\u001b[0;34m:\u001b[0m\u001b[0;34m,\u001b[0m\u001b[0;36m1\u001b[0m\u001b[0;34m]\u001b[0m\u001b[0;34m,\u001b[0m \u001b[0mhello\u001b[0m\u001b[0;34m,\u001b[0m \u001b[0mcolor\u001b[0m\u001b[0;34m=\u001b[0m\u001b[0;34m'r'\u001b[0m\u001b[0;34m)\u001b[0m\u001b[0;34m\u001b[0m\u001b[0m\n",
      "\u001b[0;32m/anaconda3/lib/python3.6/site-packages/matplotlib/pyplot.py\u001b[0m in \u001b[0;36mscatter\u001b[0;34m(x, y, s, c, marker, cmap, norm, vmin, vmax, alpha, linewidths, verts, edgecolors, hold, data, **kwargs)\u001b[0m\n\u001b[1;32m   3376\u001b[0m                          \u001b[0mvmin\u001b[0m\u001b[0;34m=\u001b[0m\u001b[0mvmin\u001b[0m\u001b[0;34m,\u001b[0m \u001b[0mvmax\u001b[0m\u001b[0;34m=\u001b[0m\u001b[0mvmax\u001b[0m\u001b[0;34m,\u001b[0m \u001b[0malpha\u001b[0m\u001b[0;34m=\u001b[0m\u001b[0malpha\u001b[0m\u001b[0;34m,\u001b[0m\u001b[0;34m\u001b[0m\u001b[0m\n\u001b[1;32m   3377\u001b[0m                          \u001b[0mlinewidths\u001b[0m\u001b[0;34m=\u001b[0m\u001b[0mlinewidths\u001b[0m\u001b[0;34m,\u001b[0m \u001b[0mverts\u001b[0m\u001b[0;34m=\u001b[0m\u001b[0mverts\u001b[0m\u001b[0;34m,\u001b[0m\u001b[0;34m\u001b[0m\u001b[0m\n\u001b[0;32m-> 3378\u001b[0;31m                          edgecolors=edgecolors, data=data, **kwargs)\n\u001b[0m\u001b[1;32m   3379\u001b[0m     \u001b[0;32mfinally\u001b[0m\u001b[0;34m:\u001b[0m\u001b[0;34m\u001b[0m\u001b[0m\n\u001b[1;32m   3380\u001b[0m         \u001b[0max\u001b[0m\u001b[0;34m.\u001b[0m\u001b[0m_hold\u001b[0m \u001b[0;34m=\u001b[0m \u001b[0mwashold\u001b[0m\u001b[0;34m\u001b[0m\u001b[0m\n",
      "\u001b[0;32m/anaconda3/lib/python3.6/site-packages/matplotlib/__init__.py\u001b[0m in \u001b[0;36minner\u001b[0;34m(ax, *args, **kwargs)\u001b[0m\n\u001b[1;32m   1715\u001b[0m                     warnings.warn(msg % (label_namer, func.__name__),\n\u001b[1;32m   1716\u001b[0m                                   RuntimeWarning, stacklevel=2)\n\u001b[0;32m-> 1717\u001b[0;31m             \u001b[0;32mreturn\u001b[0m \u001b[0mfunc\u001b[0m\u001b[0;34m(\u001b[0m\u001b[0max\u001b[0m\u001b[0;34m,\u001b[0m \u001b[0;34m*\u001b[0m\u001b[0margs\u001b[0m\u001b[0;34m,\u001b[0m \u001b[0;34m**\u001b[0m\u001b[0mkwargs\u001b[0m\u001b[0;34m)\u001b[0m\u001b[0;34m\u001b[0m\u001b[0m\n\u001b[0m\u001b[1;32m   1718\u001b[0m         \u001b[0mpre_doc\u001b[0m \u001b[0;34m=\u001b[0m \u001b[0minner\u001b[0m\u001b[0;34m.\u001b[0m\u001b[0m__doc__\u001b[0m\u001b[0;34m\u001b[0m\u001b[0m\n\u001b[1;32m   1719\u001b[0m         \u001b[0;32mif\u001b[0m \u001b[0mpre_doc\u001b[0m \u001b[0;32mis\u001b[0m \u001b[0;32mNone\u001b[0m\u001b[0;34m:\u001b[0m\u001b[0;34m\u001b[0m\u001b[0m\n",
      "\u001b[0;32m/anaconda3/lib/python3.6/site-packages/matplotlib/axes/_axes.py\u001b[0m in \u001b[0;36mscatter\u001b[0;34m(self, x, y, s, c, marker, cmap, norm, vmin, vmax, alpha, linewidths, verts, edgecolors, **kwargs)\u001b[0m\n\u001b[1;32m   3953\u001b[0m         \u001b[0my\u001b[0m \u001b[0;34m=\u001b[0m \u001b[0mnp\u001b[0m\u001b[0;34m.\u001b[0m\u001b[0mma\u001b[0m\u001b[0;34m.\u001b[0m\u001b[0mravel\u001b[0m\u001b[0;34m(\u001b[0m\u001b[0my\u001b[0m\u001b[0;34m)\u001b[0m\u001b[0;34m\u001b[0m\u001b[0m\n\u001b[1;32m   3954\u001b[0m         \u001b[0;32mif\u001b[0m \u001b[0mx\u001b[0m\u001b[0;34m.\u001b[0m\u001b[0msize\u001b[0m \u001b[0;34m!=\u001b[0m \u001b[0my\u001b[0m\u001b[0;34m.\u001b[0m\u001b[0msize\u001b[0m\u001b[0;34m:\u001b[0m\u001b[0;34m\u001b[0m\u001b[0m\n\u001b[0;32m-> 3955\u001b[0;31m             \u001b[0;32mraise\u001b[0m \u001b[0mValueError\u001b[0m\u001b[0;34m(\u001b[0m\u001b[0;34m\"x and y must be the same size\"\u001b[0m\u001b[0;34m)\u001b[0m\u001b[0;34m\u001b[0m\u001b[0m\n\u001b[0m\u001b[1;32m   3956\u001b[0m \u001b[0;34m\u001b[0m\u001b[0m\n\u001b[1;32m   3957\u001b[0m         \u001b[0;32mif\u001b[0m \u001b[0ms\u001b[0m \u001b[0;32mis\u001b[0m \u001b[0;32mNone\u001b[0m\u001b[0;34m:\u001b[0m\u001b[0;34m\u001b[0m\u001b[0m\n",
      "\u001b[0;31mValueError\u001b[0m: x and y must be the same size"
     ]
    },
    {
     "data": {
      "image/png": "[encoded data removed]",
      "text/plain": [
       "<matplotlib.figure.Figure at 0x1a16c43160>"
      ]
     },
     "metadata": {},
     "output_type": "display_data"
    }
   ],
   "source": [
    "from sklearn.cross_validation import cross_val_score, cross_val_predict\n",
    "from sklearn import metrics\n",
    "\n",
    "hello = cross_val_predict(regressor, X, Y, cv=6)\n",
    "plt.scatter(X_test[:,1], hello)\n",
    "plt.plot(X_test[:,1], hello, color='r')"
   ]
  },
  {
   "cell_type": "code",
   "execution_count": 106,
   "metadata": {},
   "outputs": [
    {
     "data": {
      "text/plain": [
       "0.21197210331800898"
      ]
     },
     "execution_count": 106,
     "metadata": {},
     "output_type": "execute_result"
    }
   ],
   "source": [
    "r2_score(Y, hello)"
   ]
  },
  {
   "cell_type": "code",
   "execution_count": 109,
   "metadata": {},
   "outputs": [
    {
     "name": "stdout",
     "output_type": "stream",
     "text": [
      "[249.30333163 256.09253582 258.10899431 263.63807759 249.32148363\n",
      " 256.09936169 236.78093203 243.53851507 254.39670299 261.1458854\n",
      " 248.86820573 248.86820573 253.13705563 261.43938536 250.77110098\n",
      " 261.23220689 248.58537183 259.11071568 249.77804731 260.51261193\n",
      " 250.26931423 260.75472135 250.06131052 260.76352704 248.788973\n",
      " 259.3316749  248.05602115 256.79476407 248.9191348  257.69768961\n",
      " 248.93140441 257.59931206 248.91884778 257.69758154 250.89090638\n",
      " 258.37486985 249.46691706 258.12199675 249.14160201 264.96465353\n",
      " 246.305444   256.9494846  253.57082755 264.23292894 253.53517729\n",
      " 264.21952241 251.39643797 262.04986001 249.17306759 259.8483737\n",
      " 252.775297   262.74920813 249.03690597 264.9222215  248.7641788\n",
      " 264.6108378  246.95446549 262.88617628 249.62626405 265.22681877\n",
      " 194.55354029 184.58962501 200.507735   195.34666912 186.87148411\n",
      " 152.13080215 200.71025217 190.0384962  206.12360052 208.58511756\n",
      " 199.21052044 213.14598044 203.33233821 194.25621794 207.87500469\n",
      " 145.11801831 134.18417829 150.52968036]\n",
      "[[1.         0.         0.         0.         0.         0.\n",
      "  0.05571774 0.42      ]\n",
      " [1.         0.         0.         0.         0.         0.\n",
      "  0.02095149 0.42      ]\n",
      " [1.         0.         0.         0.         0.         0.\n",
      "  0.05569465 0.35      ]\n",
      " [1.         0.         0.         0.         0.         0.\n",
      "  0.02094281 0.36      ]\n",
      " [1.         0.         0.         0.         0.         0.\n",
      "  0.05562479 0.42      ]\n",
      " [1.         0.         0.         0.         0.         0.\n",
      "  0.02091654 0.42      ]\n",
      " [1.         0.         0.         0.         0.         0.\n",
      "  0.05545823 0.52      ]\n",
      " [1.         0.         0.         0.         0.         0.\n",
      "  0.02085391 0.52      ]\n",
      " [1.         0.         0.         0.         0.         0.\n",
      "  0.05538929 0.38      ]\n",
      " [1.         0.         0.         0.         0.         0.\n",
      "  0.02082799 0.38      ]\n",
      " [1.         0.         0.         0.         0.         0.\n",
      "  0.         0.51      ]\n",
      " [1.         0.         0.         0.         0.         0.\n",
      "  0.         0.51      ]\n",
      " [1.         0.         0.         0.         0.         0.\n",
      "  0.05540127 0.39      ]\n",
      " [1.         0.         0.         0.         0.         0.\n",
      "  0.02083249 0.4       ]\n",
      " [1.         0.         0.         0.         0.         0.\n",
      "  0.05519364 0.4       ]\n",
      " [1.         0.         0.         0.         0.         0.\n",
      "  0.02075441 0.41      ]\n",
      " [1.         0.         0.         0.         0.         0.\n",
      "  0.05552523 0.49      ]\n",
      " [1.         0.         0.         0.         0.         0.\n",
      "  0.0208791  0.5       ]\n",
      " [1.         0.         0.         0.         0.         0.\n",
      "  0.05541064 0.44      ]\n",
      " [1.         0.         0.         0.         0.         0.\n",
      "  0.02083602 0.44      ]\n",
      " [1.         0.         0.         0.         0.         0.\n",
      "  0.05531908 0.42      ]\n",
      " [1.         0.         0.         0.         0.         0.\n",
      "  0.02080159 0.43      ]\n",
      " [1.         0.         0.         0.         0.         0.\n",
      "  0.05524366 0.43      ]\n",
      " [1.         0.         0.         0.         0.         0.\n",
      "  0.02077322 0.43      ]\n",
      " [1.         0.         0.         0.         0.         0.\n",
      "  0.05561483 0.48      ]\n",
      " [1.         0.         0.         0.         0.         0.\n",
      "  0.0209128  0.49      ]\n",
      " [1.         0.         0.         0.         0.         0.\n",
      "  0.05533366 0.51      ]\n",
      " [1.         0.         0.         0.         0.         0.\n",
      "  0.02080707 0.51      ]\n",
      " [1.         0.         0.         0.         0.         0.\n",
      "  0.05558575 0.42      ]\n",
      " [1.         0.         0.         0.         0.         0.\n",
      "  0.02090186 0.42      ]\n",
      " [1.         0.         0.         0.         0.         0.\n",
      "  0.05553728 0.42      ]\n",
      " [1.         0.         0.         0.         0.         0.\n",
      "  0.02088364 0.43      ]\n",
      " [1.         0.         0.         0.         0.         0.\n",
      "  0.05558689 0.42      ]\n",
      " [1.         0.         0.         0.         0.         0.\n",
      "  0.02090229 0.42      ]\n",
      " [1.         0.         0.         0.         0.         0.\n",
      "  0.04738841 0.43      ]\n",
      " [1.         0.         0.         0.         0.         0.\n",
      "  0.01781942 0.43      ]\n",
      " [1.         0.         0.         0.         0.         0.\n",
      "  0.05545605 0.37      ]\n",
      " [1.         0.         0.         0.         0.         0.\n",
      "  0.02085309 0.38      ]\n",
      " [1.         0.         0.         0.         0.         0.\n",
      "  0.05552062 0.4       ]\n",
      " [1.         0.         0.         0.         0.         0.\n",
      "  0.02087737 0.4       ]\n",
      " [1.         0.         0.         0.         0.         0.\n",
      "  0.05544635 0.51      ]\n",
      " [1.         0.         0.         0.         0.         0.\n",
      "  0.02084944 0.51      ]\n",
      " [1.         0.         0.         0.         0.         0.\n",
      "  0.05554043 0.41      ]\n",
      " [1.         0.         0.         0.         0.         0.\n",
      "  0.02088482 0.41      ]\n",
      " [1.         0.         0.         0.         0.         0.\n",
      "  0.05565631 0.41      ]\n",
      " [1.         0.         0.         0.         0.         0.\n",
      "  0.0209284  0.41      ]\n",
      " [1.         0.         0.         0.         0.         0.\n",
      "  0.05549523 0.44      ]\n",
      " [1.         0.         0.         0.         0.         0.\n",
      "  0.02086782 0.44      ]\n",
      " [1.         0.         0.         0.         0.         0.\n",
      "  0.05560922 0.47      ]\n",
      " [1.         0.         0.         0.         0.         0.\n",
      "  0.02091069 0.47      ]\n",
      " [1.         0.         0.         0.         0.         0.\n",
      "  0.05575527 0.42      ]\n",
      " [1.         0.         0.         0.         0.         0.\n",
      "  0.02096561 0.43      ]\n",
      " [1.         0.         0.         0.         0.         0.\n",
      "  0.05560656 0.41      ]\n",
      " [1.         0.         0.         0.         0.         0.\n",
      "  0.02090969 0.41      ]\n",
      " [1.         0.         0.         0.         0.         0.\n",
      "  0.05547124 0.42      ]\n",
      " [1.         0.         0.         0.         0.         0.\n",
      "  0.0208588  0.42      ]\n",
      " [1.         0.         0.         0.         0.         0.\n",
      "  0.05576896 0.47      ]\n",
      " [1.         0.         0.         0.         0.         0.\n",
      "  0.02097076 0.47      ]\n",
      " [1.         0.         0.         0.         0.         0.\n",
      "  0.0557813  0.39      ]\n",
      " [1.         0.         0.         0.         0.         0.\n",
      "  0.02097539 0.4       ]\n",
      " [0.         0.         1.         0.         0.         0.\n",
      "  0.033227   0.49      ]\n",
      " [0.         0.         1.         0.         0.         0.\n",
      "  0.0557213  0.48      ]\n",
      " [0.         0.         1.         0.         0.         0.\n",
      "  0.0209528  0.48      ]\n",
      " [0.         0.         0.         1.         0.         0.\n",
      "  0.0284238  0.4       ]\n",
      " [0.         0.         0.         1.         0.         0.\n",
      "  0.0476664  0.39      ]\n",
      " [0.         0.         0.         1.         0.         0.\n",
      "  0.017924   0.39      ]\n",
      " [0.         1.         0.         0.         0.         0.\n",
      "  0.0391978  0.42      ]\n",
      " [0.         1.         0.         0.         0.         0.\n",
      "  0.0657343  0.41      ]\n",
      " [0.         1.         0.         0.         0.         0.\n",
      "  0.024718   0.41      ]\n",
      " [0.         0.         0.         0.         1.         0.\n",
      "  0.0333133  0.63      ]\n",
      " [0.         0.         0.         0.         1.         0.\n",
      "  0.0558661  0.61      ]\n",
      " [0.         0.         0.         0.         1.         0.\n",
      "  0.0210073  0.62      ]\n",
      " [0.         0.         0.         0.         0.         1.\n",
      "  0.0331876  0.43      ]\n",
      " [0.         0.         0.         0.         0.         1.\n",
      "  0.0556553  0.42      ]\n",
      " [0.         0.         0.         0.         0.         1.\n",
      "  0.020928   0.42      ]\n",
      " [0.         0.         0.         1.         0.         0.\n",
      "  0.0391863  0.44      ]\n",
      " [0.         0.         0.         1.         0.         0.\n",
      "  0.0657151  0.42      ]\n",
      " [0.         0.         0.         1.         0.         0.\n",
      "  0.0247108  0.43      ]]\n"
     ]
    }
   ],
   "source": [
    "print(hello)\n",
    "print(X)"
   ]
  },
  {
   "cell_type": "code",
   "execution_count": 200,
   "metadata": {},
   "outputs": [
    {
     "data": {
      "text/plain": [
       "<seaborn.axisgrid.PairGrid at 0x1a16a1bd68>"
      ]
     },
     "execution_count": 200,
     "metadata": {},
     "output_type": "execute_result"
    },
    {
     "data": {
      "image/png": "[encoded data removed]",
      "text/plain": [
       "<matplotlib.figure.Figure at 0x1a1605c3c8>"
      ]
     },
     "metadata": {},
     "output_type": "display_data"
    }
   ],
   "source": [
    "sns.pairplot(files)"
   ]
  },
  {
   "cell_type": "code",
   "execution_count": 261,
   "metadata": {},
   "outputs": [
    {
     "name": "stderr",
     "output_type": "stream",
     "text": [
      "/anaconda3/lib/python3.6/site-packages/statsmodels/compat/pandas.py:56: FutureWarning: The pandas.core.datetools module is deprecated and will be removed in a future version. Please use the pandas.tseries module instead.\n",
      "  from pandas.core import datetools\n"
     ]
    }
   ],
   "source": [
    "import numpy as np\n",
    "import statsmodels.api as sm\n",
    "files = pd.read_csv('extraction.csv')\n",
    "X = files.iloc[:, 2:].values\n",
    "Y = files.iloc[:, 1].values"
   ]
  },
  {
   "cell_type": "code",
   "execution_count": 264,
   "metadata": {},
   "outputs": [
    {
     "data": {
      "text/html": [
       "<div>\n",
       "<style scoped>\n",
       "    .dataframe tbody tr th:only-of-type {\n",
       "        vertical-align: middle;\n",
       "    }\n",
       "\n",
       "    .dataframe tbody tr th {\n",
       "        vertical-align: top;\n",
       "    }\n",
       "\n",
       "    .dataframe thead th {\n",
       "        text-align: right;\n",
       "    }\n",
       "</style>\n",
       "<table border=\"1\" class=\"dataframe\">\n",
       "  <thead>\n",
       "    <tr style=\"text-align: right;\">\n",
       "      <th></th>\n",
       "      <th>SAR</th>\n",
       "      <th>AT</th>\n",
       "      <th>tsnr</th>\n",
       "    </tr>\n",
       "  </thead>\n",
       "  <tbody>\n",
       "    <tr>\n",
       "      <th>0</th>\n",
       "      <td>0.055718</td>\n",
       "      <td>0.42</td>\n",
       "      <td>247.676819</td>\n",
       "    </tr>\n",
       "    <tr>\n",
       "      <th>1</th>\n",
       "      <td>0.020951</td>\n",
       "      <td>0.42</td>\n",
       "      <td>281.640381</td>\n",
       "    </tr>\n",
       "    <tr>\n",
       "      <th>2</th>\n",
       "      <td>0.055695</td>\n",
       "      <td>0.35</td>\n",
       "      <td>259.791901</td>\n",
       "    </tr>\n",
       "    <tr>\n",
       "      <th>3</th>\n",
       "      <td>0.020943</td>\n",
       "      <td>0.36</td>\n",
       "      <td>279.601837</td>\n",
       "    </tr>\n",
       "    <tr>\n",
       "      <th>4</th>\n",
       "      <td>0.055625</td>\n",
       "      <td>0.42</td>\n",
       "      <td>264.461914</td>\n",
       "    </tr>\n",
       "    <tr>\n",
       "      <th>5</th>\n",
       "      <td>0.020917</td>\n",
       "      <td>0.42</td>\n",
       "      <td>263.224304</td>\n",
       "    </tr>\n",
       "    <tr>\n",
       "      <th>6</th>\n",
       "      <td>0.055458</td>\n",
       "      <td>0.52</td>\n",
       "      <td>288.716065</td>\n",
       "    </tr>\n",
       "    <tr>\n",
       "      <th>7</th>\n",
       "      <td>0.020854</td>\n",
       "      <td>0.52</td>\n",
       "      <td>291.626343</td>\n",
       "    </tr>\n",
       "    <tr>\n",
       "      <th>8</th>\n",
       "      <td>0.055389</td>\n",
       "      <td>0.38</td>\n",
       "      <td>253.758545</td>\n",
       "    </tr>\n",
       "    <tr>\n",
       "      <th>9</th>\n",
       "      <td>0.020828</td>\n",
       "      <td>0.38</td>\n",
       "      <td>291.835113</td>\n",
       "    </tr>\n",
       "    <tr>\n",
       "      <th>10</th>\n",
       "      <td>0.000000</td>\n",
       "      <td>0.51</td>\n",
       "      <td>277.162415</td>\n",
       "    </tr>\n",
       "    <tr>\n",
       "      <th>11</th>\n",
       "      <td>0.000000</td>\n",
       "      <td>0.51</td>\n",
       "      <td>288.613129</td>\n",
       "    </tr>\n",
       "    <tr>\n",
       "      <th>12</th>\n",
       "      <td>0.055401</td>\n",
       "      <td>0.39</td>\n",
       "      <td>219.683289</td>\n",
       "    </tr>\n",
       "    <tr>\n",
       "      <th>13</th>\n",
       "      <td>0.020832</td>\n",
       "      <td>0.40</td>\n",
       "      <td>248.258728</td>\n",
       "    </tr>\n",
       "    <tr>\n",
       "      <th>14</th>\n",
       "      <td>0.055194</td>\n",
       "      <td>0.40</td>\n",
       "      <td>257.229858</td>\n",
       "    </tr>\n",
       "    <tr>\n",
       "      <th>15</th>\n",
       "      <td>0.020754</td>\n",
       "      <td>0.41</td>\n",
       "      <td>245.626740</td>\n",
       "    </tr>\n",
       "    <tr>\n",
       "      <th>16</th>\n",
       "      <td>0.055525</td>\n",
       "      <td>0.49</td>\n",
       "      <td>192.625687</td>\n",
       "    </tr>\n",
       "    <tr>\n",
       "      <th>17</th>\n",
       "      <td>0.020879</td>\n",
       "      <td>0.50</td>\n",
       "      <td>222.091675</td>\n",
       "    </tr>\n",
       "    <tr>\n",
       "      <th>18</th>\n",
       "      <td>0.055411</td>\n",
       "      <td>0.44</td>\n",
       "      <td>250.888245</td>\n",
       "    </tr>\n",
       "    <tr>\n",
       "      <th>19</th>\n",
       "      <td>0.020836</td>\n",
       "      <td>0.44</td>\n",
       "      <td>281.591370</td>\n",
       "    </tr>\n",
       "    <tr>\n",
       "      <th>20</th>\n",
       "      <td>0.055319</td>\n",
       "      <td>0.42</td>\n",
       "      <td>238.997772</td>\n",
       "    </tr>\n",
       "    <tr>\n",
       "      <th>21</th>\n",
       "      <td>0.020802</td>\n",
       "      <td>0.43</td>\n",
       "      <td>259.751068</td>\n",
       "    </tr>\n",
       "    <tr>\n",
       "      <th>22</th>\n",
       "      <td>0.055244</td>\n",
       "      <td>0.43</td>\n",
       "      <td>243.994553</td>\n",
       "    </tr>\n",
       "    <tr>\n",
       "      <th>23</th>\n",
       "      <td>0.020773</td>\n",
       "      <td>0.43</td>\n",
       "      <td>255.664230</td>\n",
       "    </tr>\n",
       "    <tr>\n",
       "      <th>24</th>\n",
       "      <td>0.055615</td>\n",
       "      <td>0.48</td>\n",
       "      <td>286.920196</td>\n",
       "    </tr>\n",
       "    <tr>\n",
       "      <th>25</th>\n",
       "      <td>0.020913</td>\n",
       "      <td>0.49</td>\n",
       "      <td>298.398315</td>\n",
       "    </tr>\n",
       "    <tr>\n",
       "      <th>26</th>\n",
       "      <td>0.055334</td>\n",
       "      <td>0.51</td>\n",
       "      <td>248.461441</td>\n",
       "    </tr>\n",
       "    <tr>\n",
       "      <th>27</th>\n",
       "      <td>0.020807</td>\n",
       "      <td>0.51</td>\n",
       "      <td>245.396164</td>\n",
       "    </tr>\n",
       "    <tr>\n",
       "      <th>28</th>\n",
       "      <td>0.055586</td>\n",
       "      <td>0.42</td>\n",
       "      <td>231.975571</td>\n",
       "    </tr>\n",
       "    <tr>\n",
       "      <th>29</th>\n",
       "      <td>0.020902</td>\n",
       "      <td>0.42</td>\n",
       "      <td>260.857544</td>\n",
       "    </tr>\n",
       "    <tr>\n",
       "      <th>...</th>\n",
       "      <td>...</td>\n",
       "      <td>...</td>\n",
       "      <td>...</td>\n",
       "    </tr>\n",
       "    <tr>\n",
       "      <th>48</th>\n",
       "      <td>0.055609</td>\n",
       "      <td>0.47</td>\n",
       "      <td>247.116638</td>\n",
       "    </tr>\n",
       "    <tr>\n",
       "      <th>49</th>\n",
       "      <td>0.020911</td>\n",
       "      <td>0.47</td>\n",
       "      <td>266.867432</td>\n",
       "    </tr>\n",
       "    <tr>\n",
       "      <th>50</th>\n",
       "      <td>0.055755</td>\n",
       "      <td>0.42</td>\n",
       "      <td>269.111145</td>\n",
       "    </tr>\n",
       "    <tr>\n",
       "      <th>51</th>\n",
       "      <td>0.020966</td>\n",
       "      <td>0.43</td>\n",
       "      <td>267.961426</td>\n",
       "    </tr>\n",
       "    <tr>\n",
       "      <th>52</th>\n",
       "      <td>0.055607</td>\n",
       "      <td>0.41</td>\n",
       "      <td>179.026154</td>\n",
       "    </tr>\n",
       "    <tr>\n",
       "      <th>53</th>\n",
       "      <td>0.020910</td>\n",
       "      <td>0.41</td>\n",
       "      <td>216.291107</td>\n",
       "    </tr>\n",
       "    <tr>\n",
       "      <th>54</th>\n",
       "      <td>0.055471</td>\n",
       "      <td>0.42</td>\n",
       "      <td>259.208984</td>\n",
       "    </tr>\n",
       "    <tr>\n",
       "      <th>55</th>\n",
       "      <td>0.020859</td>\n",
       "      <td>0.42</td>\n",
       "      <td>245.489594</td>\n",
       "    </tr>\n",
       "    <tr>\n",
       "      <th>56</th>\n",
       "      <td>0.055769</td>\n",
       "      <td>0.47</td>\n",
       "      <td>244.788895</td>\n",
       "    </tr>\n",
       "    <tr>\n",
       "      <th>57</th>\n",
       "      <td>0.020971</td>\n",
       "      <td>0.47</td>\n",
       "      <td>239.627441</td>\n",
       "    </tr>\n",
       "    <tr>\n",
       "      <th>58</th>\n",
       "      <td>0.055781</td>\n",
       "      <td>0.39</td>\n",
       "      <td>275.013184</td>\n",
       "    </tr>\n",
       "    <tr>\n",
       "      <th>59</th>\n",
       "      <td>0.020975</td>\n",
       "      <td>0.40</td>\n",
       "      <td>283.786591</td>\n",
       "    </tr>\n",
       "    <tr>\n",
       "      <th>60</th>\n",
       "      <td>0.033227</td>\n",
       "      <td>0.49</td>\n",
       "      <td>54.843520</td>\n",
       "    </tr>\n",
       "    <tr>\n",
       "      <th>61</th>\n",
       "      <td>0.055721</td>\n",
       "      <td>0.48</td>\n",
       "      <td>278.397003</td>\n",
       "    </tr>\n",
       "    <tr>\n",
       "      <th>62</th>\n",
       "      <td>0.020953</td>\n",
       "      <td>0.48</td>\n",
       "      <td>286.286743</td>\n",
       "    </tr>\n",
       "    <tr>\n",
       "      <th>63</th>\n",
       "      <td>0.028424</td>\n",
       "      <td>0.40</td>\n",
       "      <td>51.152603</td>\n",
       "    </tr>\n",
       "    <tr>\n",
       "      <th>64</th>\n",
       "      <td>0.047666</td>\n",
       "      <td>0.39</td>\n",
       "      <td>237.592575</td>\n",
       "    </tr>\n",
       "    <tr>\n",
       "      <th>65</th>\n",
       "      <td>0.017924</td>\n",
       "      <td>0.39</td>\n",
       "      <td>250.132690</td>\n",
       "    </tr>\n",
       "    <tr>\n",
       "      <th>66</th>\n",
       "      <td>0.039198</td>\n",
       "      <td>0.42</td>\n",
       "      <td>56.041984</td>\n",
       "    </tr>\n",
       "    <tr>\n",
       "      <th>67</th>\n",
       "      <td>0.065734</td>\n",
       "      <td>0.41</td>\n",
       "      <td>226.278900</td>\n",
       "    </tr>\n",
       "    <tr>\n",
       "      <th>68</th>\n",
       "      <td>0.024718</td>\n",
       "      <td>0.41</td>\n",
       "      <td>229.663727</td>\n",
       "    </tr>\n",
       "    <tr>\n",
       "      <th>69</th>\n",
       "      <td>0.033313</td>\n",
       "      <td>0.63</td>\n",
       "      <td>52.976081</td>\n",
       "    </tr>\n",
       "    <tr>\n",
       "      <th>70</th>\n",
       "      <td>0.055866</td>\n",
       "      <td>0.61</td>\n",
       "      <td>251.457489</td>\n",
       "    </tr>\n",
       "    <tr>\n",
       "      <th>71</th>\n",
       "      <td>0.021007</td>\n",
       "      <td>0.62</td>\n",
       "      <td>258.849853</td>\n",
       "    </tr>\n",
       "    <tr>\n",
       "      <th>72</th>\n",
       "      <td>0.033188</td>\n",
       "      <td>0.43</td>\n",
       "      <td>48.414564</td>\n",
       "    </tr>\n",
       "    <tr>\n",
       "      <th>73</th>\n",
       "      <td>0.055655</td>\n",
       "      <td>0.42</td>\n",
       "      <td>212.955887</td>\n",
       "    </tr>\n",
       "    <tr>\n",
       "      <th>74</th>\n",
       "      <td>0.020928</td>\n",
       "      <td>0.42</td>\n",
       "      <td>219.630219</td>\n",
       "    </tr>\n",
       "    <tr>\n",
       "      <th>75</th>\n",
       "      <td>0.039186</td>\n",
       "      <td>0.44</td>\n",
       "      <td>50.733794</td>\n",
       "    </tr>\n",
       "    <tr>\n",
       "      <th>76</th>\n",
       "      <td>0.065715</td>\n",
       "      <td>0.42</td>\n",
       "      <td>228.632507</td>\n",
       "    </tr>\n",
       "    <tr>\n",
       "      <th>77</th>\n",
       "      <td>0.024711</td>\n",
       "      <td>0.43</td>\n",
       "      <td>233.716766</td>\n",
       "    </tr>\n",
       "  </tbody>\n",
       "</table>\n",
       "<p>78 rows × 3 columns</p>\n",
       "</div>"
      ],
      "text/plain": [
       "         SAR    AT        tsnr\n",
       "0   0.055718  0.42  247.676819\n",
       "1   0.020951  0.42  281.640381\n",
       "2   0.055695  0.35  259.791901\n",
       "3   0.020943  0.36  279.601837\n",
       "4   0.055625  0.42  264.461914\n",
       "5   0.020917  0.42  263.224304\n",
       "6   0.055458  0.52  288.716065\n",
       "7   0.020854  0.52  291.626343\n",
       "8   0.055389  0.38  253.758545\n",
       "9   0.020828  0.38  291.835113\n",
       "10  0.000000  0.51  277.162415\n",
       "11  0.000000  0.51  288.613129\n",
       "12  0.055401  0.39  219.683289\n",
       "13  0.020832  0.40  248.258728\n",
       "14  0.055194  0.40  257.229858\n",
       "15  0.020754  0.41  245.626740\n",
       "16  0.055525  0.49  192.625687\n",
       "17  0.020879  0.50  222.091675\n",
       "18  0.055411  0.44  250.888245\n",
       "19  0.020836  0.44  281.591370\n",
       "20  0.055319  0.42  238.997772\n",
       "21  0.020802  0.43  259.751068\n",
       "22  0.055244  0.43  243.994553\n",
       "23  0.020773  0.43  255.664230\n",
       "24  0.055615  0.48  286.920196\n",
       "25  0.020913  0.49  298.398315\n",
       "26  0.055334  0.51  248.461441\n",
       "27  0.020807  0.51  245.396164\n",
       "28  0.055586  0.42  231.975571\n",
       "29  0.020902  0.42  260.857544\n",
       "..       ...   ...         ...\n",
       "48  0.055609  0.47  247.116638\n",
       "49  0.020911  0.47  266.867432\n",
       "50  0.055755  0.42  269.111145\n",
       "51  0.020966  0.43  267.961426\n",
       "52  0.055607  0.41  179.026154\n",
       "53  0.020910  0.41  216.291107\n",
       "54  0.055471  0.42  259.208984\n",
       "55  0.020859  0.42  245.489594\n",
       "56  0.055769  0.47  244.788895\n",
       "57  0.020971  0.47  239.627441\n",
       "58  0.055781  0.39  275.013184\n",
       "59  0.020975  0.40  283.786591\n",
       "60  0.033227  0.49   54.843520\n",
       "61  0.055721  0.48  278.397003\n",
       "62  0.020953  0.48  286.286743\n",
       "63  0.028424  0.40   51.152603\n",
       "64  0.047666  0.39  237.592575\n",
       "65  0.017924  0.39  250.132690\n",
       "66  0.039198  0.42   56.041984\n",
       "67  0.065734  0.41  226.278900\n",
       "68  0.024718  0.41  229.663727\n",
       "69  0.033313  0.63   52.976081\n",
       "70  0.055866  0.61  251.457489\n",
       "71  0.021007  0.62  258.849853\n",
       "72  0.033188  0.43   48.414564\n",
       "73  0.055655  0.42  212.955887\n",
       "74  0.020928  0.42  219.630219\n",
       "75  0.039186  0.44   50.733794\n",
       "76  0.065715  0.42  228.632507\n",
       "77  0.024711  0.43  233.716766\n",
       "\n",
       "[78 rows x 3 columns]"
      ]
     },
     "execution_count": 264,
     "metadata": {},
     "output_type": "execute_result"
    }
   ],
   "source": [
    "df2=pd.DataFrame(X,columns=['SAR','AT'])\n",
    "df2['tsnr']=pd.Series(Y)\n",
    "df2"
   ]
  },
  {
   "cell_type": "code",
   "execution_count": 265,
   "metadata": {},
   "outputs": [
    {
     "data": {
      "text/plain": [
       "Intercept    295.100939\n",
       "SAR         -406.243792\n",
       "AT           -96.521877\n",
       "dtype: float64"
      ]
     },
     "execution_count": 265,
     "metadata": {},
     "output_type": "execute_result"
    }
   ],
   "source": [
    "from mpl_toolkits.mplot3d import Axes3D\n",
    "import statsmodels.formula.api as smf\n",
    "model = smf.ols(formula='tsnr ~ SAR + AT', data=df2)\n",
    "results_formula = model.fit()\n",
    "results_formula.params"
   ]
  },
  {
   "cell_type": "code",
   "execution_count": 267,
   "metadata": {},
   "outputs": [],
   "source": [
    "x_surf, y_surf = np.meshgrid(np.linspace(df2[\"SAR\"].min(), df2[\"SAR\"].max(), 100),np.linspace(df2[\"AT\"].min(), df2[\"AT\"].max(), 100))\n",
    "onlyX = pd.DataFrame({'SAR': x_surf.ravel(), 'AT': y_surf.ravel()})\n",
    "fittedY=results_formula.predict(exog=onlyX)"
   ]
  },
  {
   "cell_type": "code",
   "execution_count": 268,
   "metadata": {},
   "outputs": [
    {
     "name": "stderr",
     "output_type": "stream",
     "text": [
      "/anaconda3/lib/python3.6/site-packages/ipykernel_launcher.py:4: FutureWarning: reshape is deprecated and will raise in a subsequent release. Please use .values.reshape(...) instead\n",
      "  after removing the cwd from sys.path.\n"
     ]
    },
    {
     "data": {
      "image/png": "[encoded data removed]",
      "text/plain": [
       "<matplotlib.figure.Figure at 0x1c1832e3c8>"
      ]
     },
     "metadata": {},
     "output_type": "display_data"
    }
   ],
   "source": [
    "fig = plt.figure()\n",
    "ax = fig.add_subplot(111, projection='3d')\n",
    "ax.scatter(df2['SAR'],df2['AT'],df2['tsnr'],c='blue', marker='o', alpha=0.5)\n",
    "ax.plot_surface(x_surf,y_surf,fittedY.reshape(x_surf.shape), color='None', alpha=0.01)\n",
    "ax.set_xlabel('SAR')\n",
    "ax.set_ylabel('AT')\n",
    "ax.set_zlabel('tsnr')\n",
    "plt.show()"
   ]
  },
  {
   "cell_type": "code",
   "execution_count": null,
   "metadata": {},
   "outputs": [],
   "source": []
  }
 ],
 "metadata": {
  "kernelspec": {
   "display_name": "Python 3",
   "language": "python",
   "name": "python3"
  },
  "language_info": {
   "codemirror_mode": {
    "name": "ipython",
    "version": 3
   },
   "file_extension": ".py",
   "mimetype": "text/x-python",
   "name": "python",
   "nbconvert_exporter": "python",
   "pygments_lexer": "ipython3",
   "version": "3.6.4"
  }
 },
 "nbformat": 4,
 "nbformat_minor": 2
}
