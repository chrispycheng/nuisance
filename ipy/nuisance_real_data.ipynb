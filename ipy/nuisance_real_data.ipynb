{
 "cells": [
  {
   "cell_type": "code",
   "execution_count": 1,
   "metadata": {},
   "outputs": [],
   "source": [
    "from nuisancelib import *\n",
    "%matplotlib inline"
   ]
  },
  {
   "cell_type": "code",
   "execution_count": 2,
   "metadata": {},
   "outputs": [],
   "source": [
    "real_files = pd.read_csv('../output/real_output.csv')\n",
    "real_df = pd.DataFrame(real_files,columns=['Date', 'sid', 'ses', 'snr_total', 'TxRefAmp', 'AcquisitionTime', 'SAR',\n",
    "                                'RepetitionTime', 'Shim1', 'Shim2', 'Shim3', 'Shim4',\n",
    "                                'Shim5', 'Shim6', 'Shim7', 'Shim8', 'IOPD1', 'IOPD2',\n",
    "                                'IOPD3', 'IOPD4', 'IOPD5', 'IOPD6'])\n",
    "\n",
    "segstats = pd.read_csv('../output/segstats-volume.csv')\n",
    "seg_df = pd.DataFrame(segstats,columns=['Date', 'sid', 'ses', 'Background', \"Left-Accumbens-area\", \n",
    "                                        \"Left-Amygdala\", \"Left-Caudate\", \"Left-Hippocampus\", \"Left-Pallidum\",\n",
    "                                        \"Left-Putamen\", \"Left-Thalamus-Proper\", \"Right-Accumbens-area\", \n",
    "                                        \"Right-Amygdala\", \"Right-Caudate\", \"Right-Hippocampus\", \"Right-Pallidum\",\n",
    "                                        \"Right-Putamen\", \"Right-Thalamus-Proper\", \"csf\", \"gray\", \"white\"])\n",
    "merged_df = pd.merge(real_df, seg_df, on=['sid', 'ses'], how='outer')\n",
    "merged_df['Date_x'] = pd.to_datetime(merged_df['Date_x'], format=\"%Y%m%d\")\n",
    "merged_df.set_index('Date_x',inplace=True)\n",
    "# merged_df"
   ]
  },
  {
   "cell_type": "code",
   "execution_count": 3,
   "metadata": {},
   "outputs": [],
   "source": [
    "# df3['Date'] = pd.to_datetime(df3['Date'], format=\"%Y%m%d\")\n",
    "df3 = pd.read_csv('../data/extractions/anat.csv', parse_dates=['Date'])\n",
    "df3.set_index('Date', inplace=True)\n",
    "df_reindexed = df3.reindex(pd.date_range(start=df3.index.min(), end=df3.index.max(), freq='1D'))  \n",
    "df_reindexed.index.names = ['Date_x']\n",
    "interpolated_df = df_reindexed.interpolate(method='time')\n",
    "# interpolated_df"
   ]
  },
  {
   "cell_type": "code",
   "execution_count": 4,
   "metadata": {},
   "outputs": [],
   "source": [
    "super_df = pd.merge(merged_df, interpolated_df, left_index=True, right_index=True, suffixes = (\"_real\", \"_qa\"))\n",
    "# super_df"
   ]
  },
  {
   "cell_type": "code",
   "execution_count": 5,
   "metadata": {},
   "outputs": [],
   "source": [
    "demographic_df = pd.read_csv('../data/dbic/bids/participants.tsv', sep='\\t')\n",
    "demographic_df = demographic_df.rename(index=str, columns={\"participant_id\": \"sid\"})\n",
    "final_df = super_df.join(demographic_df.set_index('sid'), on='sid', how='left')\n",
    "# final_df"
   ]
  },
  {
   "cell_type": "code",
   "execution_count": 6,
   "metadata": {},
   "outputs": [
    {
     "name": "stderr",
     "output_type": "stream",
     "text": [
      "/home/yoh/anaconda-5.2.0-2.7/envs/nuisance/lib/python3.7/site-packages/ipykernel_launcher.py:11: SettingWithCopyWarning: \n",
      "A value is trying to be set on a copy of a slice from a DataFrame\n",
      "\n",
      "See the caveats in the documentation: https://pandas.pydata.org/pandas-docs/stable/user_guide/indexing.html#returning-a-view-versus-a-copy\n",
      "  # This is added back by InteractiveShellApp.init_path()\n"
     ]
    }
   ],
   "source": [
    "expanded_df = pd.DataFrame(final_df,columns=['sid', 'ses', 'Background', \"Left-Accumbens-area\", \n",
    "                                        \"Left-Amygdala\", \"Left-Caudate\", \"Left-Hippocampus\", \"Left-Pallidum\",\n",
    "                                        \"Left-Putamen\", \"Left-Thalamus-Proper\", \"Right-Accumbens-area\", \n",
    "                                        \"Right-Amygdala\", \"Right-Caudate\", \"Right-Hippocampus\", \"Right-Pallidum\",\n",
    "                                        \"Right-Putamen\", \"Right-Thalamus-Proper\", \"csf\", \"gray\", \"white\", 'age', \n",
    "                                             'sex', 'snr_total_qa', 'IOPD1_real', 'IOPD2_real', 'IOPD3_real', \n",
    "                                             'IOPD4_real', 'IOPD5_real', 'IOPD6_real'])\n",
    "expanded_df = expanded_df.reset_index()\n",
    "expanded_df = expanded_df.rename(columns={'Date_x': 'Date'})\n",
    "expanded_df['sex_male'] = [0 for item in range(len(expanded_df))]\n",
    "expanded_df.sex_male[expanded_df.sex == 'M'] = int(1)\n",
    "# expanded_df"
   ]
  },
  {
   "cell_type": "code",
   "execution_count": 7,
   "metadata": {},
   "outputs": [],
   "source": [
    "dicom_data = pd.read_csv('../output/dicom_data.csv')\n",
    "dicom_data = pd.DataFrame(dicom_data,columns=['sid', 'ses', 'PatientWeight'])\n",
    "July17_df = pd.merge(expanded_df, dicom_data, on=['sid', 'ses'], how='left')\n",
    "# July17_df"
   ]
  },
  {
   "cell_type": "code",
   "execution_count": 8,
   "metadata": {
    "scrolled": false
   },
   "outputs": [],
   "source": [
    "Oct14_df = pd.DataFrame(July17_df, columns=['Date', 'gray', 'age', 'snr_total_qa', 'IOPD1_real', 'IOPD2_real', 'IOPD3_real', \n",
    "                                              'IOPD4_real', 'IOPD5_real', 'IOPD6_real', 'sex_male', 'PatientWeight', \n",
    "                                              'Seasonal (sin)', 'Seasonal (cos)'])"
   ]
  },
  {
   "cell_type": "code",
   "execution_count": 9,
   "metadata": {
    "scrolled": false
   },
   "outputs": [
    {
     "name": "stderr",
     "output_type": "stream",
     "text": [
      "/home/yoh/proj/experiments/nuisance/ipy/nuisancelib.py:136: FutureWarning: The pandas.datetime class is deprecated and will be removed from pandas in a future version. Import from datetime module instead.\n",
      "  model_df['Date'] = model_df['Date'].map(pd.datetime.toordinal)\n"
     ]
    },
    {
     "name": "stdout",
     "output_type": "stream",
     "text": [
      "Statistically significant variables: ['const', 'age', 'sex_male', 'PatientWeight', 'Seasonal (sin)', 'snr_total_qa', 'IOPD2_real']\n",
      "FDR-corrected p-values:\n",
      "            age | Original  p-value: 0.000777 | FDR-corrected p-value:  0.00233**\n",
      "       sex_male | Original  p-value:  0.00354 | FDR-corrected p-value:  0.00532**\n",
      "  PatientWeight | Original  p-value: 1.47e-07 | FDR-corrected p-value: 8.82e-07**\n",
      "   snr_total_qa | Original  p-value:  0.00157 | FDR-corrected p-value:  0.00315**\n",
      "           IOPD | Original  p-value:   0.0565 | FDR-corrected p-value:   0.0565\n",
      "       Seasonal | Original  p-value:   0.0293 | FDR-corrected p-value:   0.0352**\n",
      "\n",
      "\n",
      "                            OLS Regression Results                            \n",
      "==============================================================================\n",
      "Dep. Variable:                   gray   R-squared:                       0.242\n",
      "Model:                            OLS   Adj. R-squared:                  0.206\n",
      "Method:                 Least Squares   F-statistic:                     6.615\n",
      "Date:                Thu, 11 Jun 2020   Prob (F-statistic):           2.92e-10\n",
      "Time:                        10:04:49   Log-Likelihood:                -3509.2\n",
      "No. Observations:                 261   AIC:                             7044.\n",
      "Df Residuals:                     248   BIC:                             7091.\n",
      "Df Model:                          12                                         \n",
      "Covariance Type:            nonrobust                                         \n",
      "==================================================================================\n",
      "                     coef    std err          t      P>|t|      [0.025      0.975]\n",
      "----------------------------------------------------------------------------------\n",
      "const           8.117e+05   1.06e+04     76.498      0.000    7.91e+05    8.33e+05\n",
      "age            -7035.8252   2067.497     -3.403      0.001   -1.11e+04   -2963.733\n",
      "sex_male        6.711e+04   2.28e+04      2.944      0.004    2.22e+04    1.12e+05\n",
      "PatientWeight   4875.2695    900.855      5.412      0.000    3100.967    6649.572\n",
      "Seasonal (sin) -3.643e+04   1.71e+04     -2.129      0.034   -7.01e+04   -2730.779\n",
      "Seasonal (cos)  2.373e+04   1.46e+04      1.621      0.106   -5107.551    5.26e+04\n",
      "snr_total_qa   -1.643e+04   5141.725     -3.196      0.002   -2.66e+04   -6306.590\n",
      "IOPD1_real      9.815e+04   2.66e+05      0.370      0.712   -4.25e+05    6.21e+05\n",
      "IOPD2_real       1.57e+06   6.54e+05      2.401      0.017    2.82e+05    2.86e+06\n",
      "IOPD3_real     -5.839e+05   3.31e+05     -1.766      0.079   -1.23e+06    6.72e+04\n",
      "IOPD4_real     -6.917e+04   2.83e+05     -0.244      0.807   -6.27e+05    4.89e+05\n",
      "IOPD5_real      1.341e+06   7.02e+06      0.191      0.849   -1.25e+07    1.52e+07\n",
      "IOPD6_real      9.499e+06   5.19e+06      1.829      0.069   -7.32e+05    1.97e+07\n",
      "==============================================================================\n",
      "Omnibus:                      148.253   Durbin-Watson:                   1.927\n",
      "Prob(Omnibus):                  0.000   Jarque-Bera (JB):             1063.636\n",
      "Skew:                           2.214   Prob(JB):                    1.08e-231\n",
      "Kurtosis:                      11.843   Cond. No.                     7.80e+03\n",
      "==============================================================================\n",
      "\n",
      "Warnings:\n",
      "[1] Standard Errors assume that the covariance matrix of the errors is correctly specified.\n",
      "[2] The condition number is large, 7.8e+03. This might indicate that there are\n",
      "strong multicollinearity or other numerical problems.\n",
      "AIC: 7044.423088423353\n",
      "BIC: 7090.761853718548\n"
     ]
    },
    {
     "data": {
      "text/plain": [
       "const             1.756818e-174\n",
       "age                7.767962e-04\n",
       "sex_male           3.543576e-03\n",
       "PatientWeight      1.470081e-07\n",
       "Seasonal (sin)     3.422566e-02\n",
       "Seasonal (cos)     1.063561e-01\n",
       "snr_total_qa       1.573624e-03\n",
       "IOPD1_real         7.120256e-01\n",
       "IOPD2_real         1.707020e-02\n",
       "IOPD3_real         7.859467e-02\n",
       "IOPD4_real         8.073063e-01\n",
       "IOPD5_real         8.487218e-01\n",
       "IOPD6_real         6.864041e-02\n",
       "dtype: float64"
      ]
     },
     "execution_count": 9,
     "metadata": {},
     "output_type": "execute_result"
    },
    {
     "data": {
      "image/png": "[encoded data removed]",
      "text/plain": [
       "<Figure size 1080x432 with 2 Axes>"
      ]
     },
     "metadata": {
      "needs_background": "light"
     },
     "output_type": "display_data"
    }
   ],
   "source": [
    "# WITH BOTH SNR_TOTAL_QA AND SEASONAL DATA;\n",
    "regress('gray', Oct14_df, real_data=True).pvalues"
   ]
  },
  {
   "cell_type": "code",
   "execution_count": 10,
   "metadata": {},
   "outputs": [
    {
     "name": "stdout",
     "output_type": "stream",
     "text": [
      "Statistically significant variables: ['const', 'age', 'sex_male', 'PatientWeight', 'snr_total_qa']\n",
      "FDR-corrected p-values:\n",
      "            age | Original  p-value: 0.000969 | FDR-corrected p-value:  0.00242**\n",
      "       sex_male | Original  p-value:  0.00421 | FDR-corrected p-value:  0.00701**\n",
      "  PatientWeight | Original  p-value: 2.42e-07 | FDR-corrected p-value: 1.21e-06**\n",
      "   snr_total_qa | Original  p-value:   0.0135 | FDR-corrected p-value:   0.0169**\n",
      "           IOPD | Original  p-value:   0.0851 | FDR-corrected p-value:   0.0851\n",
      "\n",
      "\n",
      "                            OLS Regression Results                            \n",
      "==============================================================================\n",
      "Dep. Variable:                   gray   R-squared:                       0.207\n",
      "Model:                            OLS   Adj. R-squared:                  0.175\n",
      "Method:                 Least Squares   F-statistic:                     6.514\n",
      "Date:                Thu, 11 Jun 2020   Prob (F-statistic):           6.12e-09\n",
      "Time:                        10:04:56   Log-Likelihood:                -3515.2\n",
      "No. Observations:                 261   AIC:                             7052.\n",
      "Df Residuals:                     250   BIC:                             7092.\n",
      "Df Model:                          10                                         \n",
      "Covariance Type:            nonrobust                                         \n",
      "=================================================================================\n",
      "                    coef    std err          t      P>|t|      [0.025      0.975]\n",
      "---------------------------------------------------------------------------------\n",
      "const          8.117e+05   1.08e+04     75.055      0.000     7.9e+05    8.33e+05\n",
      "age           -7035.8252   2107.242     -3.339      0.001   -1.12e+04   -2885.615\n",
      "sex_male       6.711e+04   2.32e+04      2.889      0.004    2.14e+04    1.13e+05\n",
      "PatientWeight  4875.2695    918.173      5.310      0.000    3066.930    6683.609\n",
      "snr_total_qa  -1.238e+04   4976.210     -2.488      0.013   -2.22e+04   -2580.665\n",
      "IOPD1_real     1.049e+05   2.71e+05      0.387      0.699   -4.28e+05    6.38e+05\n",
      "IOPD2_real     1.286e+06   6.61e+05      1.946      0.053   -1.54e+04    2.59e+06\n",
      "IOPD3_real    -6.578e+05   3.36e+05     -1.957      0.052   -1.32e+06    4360.066\n",
      "IOPD4_real    -3.202e+04   2.88e+05     -0.111      0.912   -5.99e+05    5.35e+05\n",
      "IOPD5_real    -4.112e+06   6.93e+06     -0.593      0.553   -1.78e+07    9.54e+06\n",
      "IOPD6_real     9.363e+06   5.29e+06      1.771      0.078   -1.05e+06    1.98e+07\n",
      "==============================================================================\n",
      "Omnibus:                      177.074   Durbin-Watson:                   1.843\n",
      "Prob(Omnibus):                  0.000   Jarque-Bera (JB):             1699.648\n",
      "Skew:                           2.666   Prob(JB):                         0.00\n",
      "Kurtosis:                      14.307   Cond. No.                     7.55e+03\n",
      "==============================================================================\n",
      "\n",
      "Warnings:\n",
      "[1] Standard Errors assume that the covariance matrix of the errors is correctly specified.\n",
      "[2] The condition number is large, 7.55e+03. This might indicate that there are\n",
      "strong multicollinearity or other numerical problems.\n",
      "AIC: 7052.4590068742655\n",
      "BIC: 7091.6687313548155\n"
     ]
    },
    {
     "name": "stderr",
     "output_type": "stream",
     "text": [
      "/home/yoh/proj/experiments/nuisance/ipy/nuisancelib.py:136: FutureWarning: The pandas.datetime class is deprecated and will be removed from pandas in a future version. Import from datetime module instead.\n",
      "  model_df['Date'] = model_df['Date'].map(pd.datetime.toordinal)\n"
     ]
    },
    {
     "data": {
      "text/plain": [
       "<statsmodels.regression.linear_model.RegressionResultsWrapper at 0x7f7f2cd38250>"
      ]
     },
     "execution_count": 10,
     "metadata": {},
     "output_type": "execute_result"
    }
   ],
   "source": [
    "# WITH ONLY SNR_TOTAL_QA\n",
    "regress('gray', Oct14_df, add_qa=True, add_seasonal=False, real_data=True, plot=False)"
   ]
  },
  {
   "cell_type": "code",
   "execution_count": 11,
   "metadata": {
    "scrolled": false
   },
   "outputs": [
    {
     "name": "stdout",
     "output_type": "stream",
     "text": [
      "Statistically significant variables: ['const', 'age', 'sex_male', 'PatientWeight', 'Seasonal (sin)', 'IOPD2_real']\n",
      "FDR-corrected p-values:\n",
      "            age | Original  p-value: 0.000982 | FDR-corrected p-value:  0.00246**\n",
      "       sex_male | Original  p-value:  0.00425 | FDR-corrected p-value:  0.00708**\n",
      "  PatientWeight | Original  p-value:  2.5e-07 | FDR-corrected p-value: 1.25e-06**\n",
      "           IOPD | Original  p-value:   0.0933 | FDR-corrected p-value:   0.0933\n",
      "       Seasonal | Original  p-value:   0.0336 | FDR-corrected p-value:    0.042**\n",
      "\n",
      "\n",
      "                            OLS Regression Results                            \n",
      "==============================================================================\n",
      "Dep. Variable:                   gray   R-squared:                       0.208\n",
      "Model:                            OLS   Adj. R-squared:                  0.173\n",
      "Method:                 Least Squares   F-statistic:                     5.951\n",
      "Date:                Thu, 11 Jun 2020   Prob (F-statistic):           1.34e-08\n",
      "Time:                        10:04:57   Log-Likelihood:                -3515.0\n",
      "No. Observations:                 261   AIC:                             7054.\n",
      "Df Residuals:                     249   BIC:                             7097.\n",
      "Df Model:                          11                                         \n",
      "Covariance Type:            nonrobust                                         \n",
      "==================================================================================\n",
      "                     coef    std err          t      P>|t|      [0.025      0.975]\n",
      "----------------------------------------------------------------------------------\n",
      "const           8.117e+05   1.08e+04     74.973      0.000     7.9e+05    8.33e+05\n",
      "age            -7035.8252   2109.544     -3.335      0.001   -1.12e+04   -2881.001\n",
      "sex_male        6.711e+04   2.33e+04      2.886      0.004    2.13e+04    1.13e+05\n",
      "PatientWeight   4875.2695    919.176      5.304      0.000    3064.919    6685.620\n",
      "Seasonal (sin) -3.643e+04   1.75e+04     -2.087      0.038   -7.08e+04   -2046.088\n",
      "Seasonal (cos)  2.373e+04   1.49e+04      1.588      0.113   -5693.351    5.31e+04\n",
      "IOPD1_real      9.396e+04   2.71e+05      0.347      0.729    -4.4e+05    6.28e+05\n",
      "IOPD2_real      1.634e+06   6.67e+05      2.449      0.015     3.2e+05    2.95e+06\n",
      "IOPD3_real     -4.912e+05   3.36e+05     -1.462      0.145   -1.15e+06    1.71e+05\n",
      "IOPD4_real     -1.628e+04   2.89e+05     -0.056      0.955   -5.85e+05    5.52e+05\n",
      "IOPD5_real      2.776e+04   7.15e+06      0.004      0.997   -1.41e+07    1.41e+07\n",
      "IOPD6_real      8.758e+06    5.3e+06      1.654      0.099   -1.67e+06    1.92e+07\n",
      "==============================================================================\n",
      "Omnibus:                      167.925   Durbin-Watson:                   1.851\n",
      "Prob(Omnibus):                  0.000   Jarque-Bera (JB):             1452.925\n",
      "Skew:                           2.524   Prob(JB):                         0.00\n",
      "Kurtosis:                      13.398   Cond. No.                     7.78e+03\n",
      "==============================================================================\n",
      "\n",
      "Warnings:\n",
      "[1] Standard Errors assume that the covariance matrix of the errors is correctly specified.\n",
      "[2] The condition number is large, 7.78e+03. This might indicate that there are\n",
      "strong multicollinearity or other numerical problems.\n",
      "AIC: 7053.982710245571\n",
      "BIC: 7096.756955133444\n"
     ]
    },
    {
     "data": {
      "text/plain": [
       "<statsmodels.regression.linear_model.RegressionResultsWrapper at 0x7f7f2ccdc450>"
      ]
     },
     "execution_count": 11,
     "metadata": {},
     "output_type": "execute_result"
    }
   ],
   "source": [
    "# WITH ONLY SEASONAL\n",
    "regress('gray', Oct14_df, add_qa=False, real_data=True, plot=False)"
   ]
  },
  {
   "cell_type": "code",
   "execution_count": 13,
   "metadata": {},
   "outputs": [
    {
     "name": "stdout",
     "output_type": "stream",
     "text": [
      "Statistically significant variables: ['const', 'age', 'sex_male', 'PatientWeight', 'IOPD2_real']\n",
      "FDR-corrected p-values:\n",
      "            age | Original  p-value:   0.0011 | FDR-corrected p-value:  0.00221**\n",
      "       sex_male | Original  p-value:  0.00465 | FDR-corrected p-value:   0.0062**\n",
      "  PatientWeight | Original  p-value: 3.26e-07 | FDR-corrected p-value:  1.3e-06**\n",
      "           IOPD | Original  p-value:    0.115 | FDR-corrected p-value:    0.115\n",
      "\n",
      "\n",
      "                            OLS Regression Results                            \n",
      "==============================================================================\n",
      "Dep. Variable:                   gray   R-squared:                       0.185\n",
      "Model:                            OLS   Adj. R-squared:                  0.156\n",
      "Method:                 Least Squares   F-statistic:                     6.331\n",
      "Date:                Thu, 11 Jun 2020   Prob (F-statistic):           4.43e-08\n",
      "Time:                        10:05:54   Log-Likelihood:                -3518.8\n",
      "No. Observations:                 261   AIC:                             7058.\n",
      "Df Residuals:                     251   BIC:                             7093.\n",
      "Df Model:                           9                                         \n",
      "Covariance Type:            nonrobust                                         \n",
      "=================================================================================\n",
      "                    coef    std err          t      P>|t|      [0.025      0.975]\n",
      "---------------------------------------------------------------------------------\n",
      "const          8.117e+05   1.09e+04     74.197      0.000     7.9e+05    8.33e+05\n",
      "age           -7035.8252   2131.626     -3.301      0.001   -1.12e+04   -2837.672\n",
      "sex_male       6.711e+04   2.35e+04      2.856      0.005    2.08e+04    1.13e+05\n",
      "PatientWeight  4875.2695    928.797      5.249      0.000    3046.040    6704.499\n",
      "IOPD1_real     1.022e+05   2.74e+05      0.373      0.709   -4.37e+05    6.41e+05\n",
      "IOPD2_real     1.369e+06   6.68e+05      2.051      0.041    5.45e+04    2.68e+06\n",
      "IOPD3_real    -5.678e+05   3.38e+05     -1.679      0.094   -1.23e+06    9.84e+04\n",
      "IOPD4_real    -5010.5840   2.91e+05     -0.017      0.986   -5.78e+05    5.68e+05\n",
      "IOPD5_real    -4.599e+06   7.01e+06     -0.656      0.512   -1.84e+07     9.2e+06\n",
      "IOPD6_real      8.91e+06   5.35e+06      1.667      0.097   -1.62e+06    1.94e+07\n",
      "==============================================================================\n",
      "Omnibus:                      188.232   Durbin-Watson:                   1.801\n",
      "Prob(Omnibus):                  0.000   Jarque-Bera (JB):             2006.763\n",
      "Skew:                           2.856   Prob(JB):                         0.00\n",
      "Kurtosis:                      15.325   Cond. No.                     7.55e+03\n",
      "==============================================================================\n",
      "\n",
      "Warnings:\n",
      "[1] Standard Errors assume that the covariance matrix of the errors is correctly specified.\n",
      "[2] The condition number is large, 7.55e+03. This might indicate that there are\n",
      "strong multicollinearity or other numerical problems.\n",
      "AIC: 7057.506596102941\n",
      "BIC: 7093.151800176168\n"
     ]
    },
    {
     "data": {
      "text/plain": [
       "<statsmodels.regression.linear_model.RegressionResultsWrapper at 0x7f7f2ccdc190>"
      ]
     },
     "execution_count": 13,
     "metadata": {},
     "output_type": "execute_result"
    }
   ],
   "source": [
    "# WITH NEITHER SEASONAL OR SNR_TOTAL_QA\n",
    "regress('gray', Oct14_df, add_qa=False, add_seasonal=False, real_data=True, plot=False)"
   ]
  },
  {
   "cell_type": "code",
   "execution_count": 14,
   "metadata": {
    "scrolled": true
   },
   "outputs": [
    {
     "name": "stdout",
     "output_type": "stream",
     "text": [
      "FDR-corrected p-values:\n",
      "            age | Original  p-value:    0.114 | FDR-corrected p-value:    0.228\n",
      "       sex_male | Original  p-value: 1.11e-32 | FDR-corrected p-value: 6.63e-32**\n",
      "  PatientWeight | Original  p-value: 0.000339 | FDR-corrected p-value:  0.00102**\n",
      "   snr_total_qa | Original  p-value:    0.269 | FDR-corrected p-value:    0.323\n",
      "           IOPD | Original  p-value:    0.543 | FDR-corrected p-value:    0.543\n",
      "       Seasonal | Original  p-value:    0.182 | FDR-corrected p-value:    0.273\n",
      "\n",
      "\n",
      "FDR-corrected p-values:\n",
      "            age | Original  p-value:    0.508 | FDR-corrected p-value:    0.762\n",
      "       sex_male | Original  p-value:    0.014 | FDR-corrected p-value:   0.0419**\n",
      "  PatientWeight | Original  p-value:    0.318 | FDR-corrected p-value:    0.636\n",
      "   snr_total_qa | Original  p-value:    0.981 | FDR-corrected p-value:    0.981\n",
      "           IOPD | Original  p-value:  0.00248 | FDR-corrected p-value:   0.0149**\n",
      "       Seasonal | Original  p-value:    0.879 | FDR-corrected p-value:    0.981\n",
      "\n",
      "\n",
      "FDR-corrected p-values:\n",
      "            age | Original  p-value:   0.0011 | FDR-corrected p-value:   0.0033**\n",
      "       sex_male | Original  p-value:  6.4e-18 | FDR-corrected p-value: 3.84e-17**\n",
      "  PatientWeight | Original  p-value:  0.00367 | FDR-corrected p-value:  0.00733**\n",
      "   snr_total_qa | Original  p-value:    0.462 | FDR-corrected p-value:    0.555\n",
      "           IOPD | Original  p-value:   0.0445 | FDR-corrected p-value:   0.0668\n",
      "       Seasonal | Original  p-value:    0.638 | FDR-corrected p-value:    0.638\n",
      "\n",
      "\n",
      "FDR-corrected p-values:\n",
      "            age | Original  p-value:   0.0912 | FDR-corrected p-value:    0.137\n",
      "       sex_male | Original  p-value: 2.16e-09 | FDR-corrected p-value: 1.29e-08**\n",
      "  PatientWeight | Original  p-value:    0.148 | FDR-corrected p-value:    0.177\n",
      "   snr_total_qa | Original  p-value:   0.0881 | FDR-corrected p-value:    0.137\n",
      "           IOPD | Original  p-value:  0.00191 | FDR-corrected p-value:  0.00572**\n",
      "       Seasonal | Original  p-value:    0.955 | FDR-corrected p-value:    0.955\n",
      "\n",
      "\n",
      "FDR-corrected p-values:\n",
      "            age | Original  p-value:   0.0522 | FDR-corrected p-value:    0.104\n",
      "       sex_male | Original  p-value: 5.98e-10 | FDR-corrected p-value: 3.59e-09**\n",
      "  PatientWeight | Original  p-value:  0.00264 | FDR-corrected p-value:  0.00792**\n",
      "   snr_total_qa | Original  p-value:    0.464 | FDR-corrected p-value:    0.464\n",
      "           IOPD | Original  p-value:    0.114 | FDR-corrected p-value:    0.172\n",
      "       Seasonal | Original  p-value:    0.168 | FDR-corrected p-value:    0.202\n",
      "\n",
      "\n",
      "FDR-corrected p-values:\n",
      "            age | Original  p-value:  0.00341 | FDR-corrected p-value:   0.0102**\n",
      "       sex_male | Original  p-value:    5e-38 | FDR-corrected p-value:    3e-37**\n",
      "  PatientWeight | Original  p-value:    0.178 | FDR-corrected p-value:    0.214\n",
      "   snr_total_qa | Original  p-value:    0.564 | FDR-corrected p-value:    0.564\n",
      "           IOPD | Original  p-value:   0.0127 | FDR-corrected p-value:   0.0254**\n",
      "       Seasonal | Original  p-value:     0.16 | FDR-corrected p-value:    0.214\n",
      "\n",
      "\n",
      "FDR-corrected p-values:\n",
      "            age | Original  p-value:    0.772 | FDR-corrected p-value:    0.786\n",
      "       sex_male | Original  p-value: 2.31e-15 | FDR-corrected p-value: 1.39e-14**\n",
      "  PatientWeight | Original  p-value:  0.00626 | FDR-corrected p-value:   0.0188**\n",
      "   snr_total_qa | Original  p-value:    0.464 | FDR-corrected p-value:    0.697\n",
      "           IOPD | Original  p-value:    0.786 | FDR-corrected p-value:    0.786\n",
      "       Seasonal | Original  p-value:   0.0874 | FDR-corrected p-value:    0.175\n",
      "\n",
      "\n",
      "FDR-corrected p-values:\n",
      "            age | Original  p-value:    0.116 | FDR-corrected p-value:    0.233\n",
      "       sex_male | Original  p-value: 4.58e-29 | FDR-corrected p-value: 2.75e-28**\n",
      "  PatientWeight | Original  p-value: 0.000205 | FDR-corrected p-value: 0.000614**\n",
      "   snr_total_qa | Original  p-value:    0.301 | FDR-corrected p-value:    0.361\n",
      "           IOPD | Original  p-value:    0.957 | FDR-corrected p-value:    0.957\n",
      "       Seasonal | Original  p-value:    0.214 | FDR-corrected p-value:    0.321\n",
      "\n",
      "\n",
      "FDR-corrected p-values:\n",
      "            age | Original  p-value:    0.257 | FDR-corrected p-value:    0.385\n",
      "       sex_male | Original  p-value: 1.05e-06 | FDR-corrected p-value: 6.33e-06**\n",
      "  PatientWeight | Original  p-value:    0.724 | FDR-corrected p-value:    0.724\n",
      "   snr_total_qa | Original  p-value:    0.569 | FDR-corrected p-value:    0.683\n",
      "           IOPD | Original  p-value:     0.16 | FDR-corrected p-value:    0.321\n",
      "       Seasonal | Original  p-value:   0.0444 | FDR-corrected p-value:    0.133\n",
      "\n",
      "\n",
      "FDR-corrected p-values:\n",
      "            age | Original  p-value:  0.00354 | FDR-corrected p-value:   0.0106**\n",
      "       sex_male | Original  p-value: 1.32e-19 | FDR-corrected p-value:  7.9e-19**\n",
      "  PatientWeight | Original  p-value:   0.0239 | FDR-corrected p-value:   0.0477**\n",
      "   snr_total_qa | Original  p-value:    0.748 | FDR-corrected p-value:    0.898\n",
      "           IOPD | Original  p-value:   0.0495 | FDR-corrected p-value:   0.0743\n",
      "       Seasonal | Original  p-value:    0.973 | FDR-corrected p-value:    0.973\n",
      "\n",
      "\n",
      "FDR-corrected p-values:\n",
      "            age | Original  p-value:    0.645 | FDR-corrected p-value:     0.83\n",
      "       sex_male | Original  p-value: 3.76e-08 | FDR-corrected p-value: 2.26e-07**\n",
      "  PatientWeight | Original  p-value:    0.692 | FDR-corrected p-value:     0.83\n",
      "   snr_total_qa | Original  p-value:   0.0793 | FDR-corrected p-value:    0.159\n",
      "           IOPD | Original  p-value:   0.0483 | FDR-corrected p-value:    0.145\n",
      "       Seasonal | Original  p-value:    0.893 | FDR-corrected p-value:    0.893\n",
      "\n",
      "\n",
      "FDR-corrected p-values:\n",
      "            age | Original  p-value:  0.00216 | FDR-corrected p-value:  0.00648**\n",
      "       sex_male | Original  p-value: 2.39e-16 | FDR-corrected p-value: 1.43e-15**\n",
      "  PatientWeight | Original  p-value:  0.00879 | FDR-corrected p-value:   0.0176**\n",
      "   snr_total_qa | Original  p-value:    0.277 | FDR-corrected p-value:    0.277\n",
      "           IOPD | Original  p-value:   0.0632 | FDR-corrected p-value:   0.0759\n",
      "       Seasonal | Original  p-value:   0.0546 | FDR-corrected p-value:   0.0759\n",
      "\n",
      "\n",
      "FDR-corrected p-values:\n",
      "            age | Original  p-value:  0.00163 | FDR-corrected p-value:  0.00488**\n",
      "       sex_male | Original  p-value: 1.88e-41 | FDR-corrected p-value: 1.13e-40**\n",
      "  PatientWeight | Original  p-value:   0.0169 | FDR-corrected p-value:   0.0338**\n",
      "   snr_total_qa | Original  p-value:    0.453 | FDR-corrected p-value:    0.506\n",
      "           IOPD | Original  p-value:    0.506 | FDR-corrected p-value:    0.506\n",
      "       Seasonal | Original  p-value:   0.0814 | FDR-corrected p-value:    0.122\n",
      "\n",
      "\n",
      "FDR-corrected p-values:\n",
      "            age | Original  p-value:    0.462 | FDR-corrected p-value:    0.693\n",
      "       sex_male | Original  p-value: 4.21e-18 | FDR-corrected p-value: 2.52e-17**\n",
      "  PatientWeight | Original  p-value:  0.00956 | FDR-corrected p-value:   0.0287**\n",
      "   snr_total_qa | Original  p-value:    0.602 | FDR-corrected p-value:    0.723\n",
      "           IOPD | Original  p-value:    0.791 | FDR-corrected p-value:    0.791\n",
      "       Seasonal | Original  p-value:    0.362 | FDR-corrected p-value:    0.693\n",
      "\n",
      "\n",
      "FDR-corrected p-values:\n",
      "            age | Original  p-value:    0.362 | FDR-corrected p-value:     0.64\n",
      "       sex_male | Original  p-value: 1.27e-30 | FDR-corrected p-value: 7.61e-30**\n",
      "  PatientWeight | Original  p-value: 0.000994 | FDR-corrected p-value:  0.00298**\n",
      "   snr_total_qa | Original  p-value:    0.533 | FDR-corrected p-value:     0.64\n",
      "           IOPD | Original  p-value:    0.989 | FDR-corrected p-value:    0.989\n",
      "       Seasonal | Original  p-value:     0.48 | FDR-corrected p-value:     0.64\n",
      "\n",
      "\n",
      "FDR-corrected p-values:\n",
      "            age | Original  p-value:    0.289 | FDR-corrected p-value:    0.304\n",
      "       sex_male | Original  p-value:   0.0231 | FDR-corrected p-value:   0.0617\n",
      "  PatientWeight | Original  p-value: 1.87e-05 | FDR-corrected p-value: 0.000112**\n",
      "   snr_total_qa | Original  p-value:   0.0308 | FDR-corrected p-value:   0.0617\n",
      "           IOPD | Original  p-value:    0.304 | FDR-corrected p-value:    0.304\n",
      "       Seasonal | Original  p-value:   0.0586 | FDR-corrected p-value:   0.0879\n",
      "\n",
      "\n",
      "FDR-corrected p-values:\n",
      "            age | Original  p-value: 0.000777 | FDR-corrected p-value:  0.00233**\n",
      "       sex_male | Original  p-value:  0.00354 | FDR-corrected p-value:  0.00532**\n",
      "  PatientWeight | Original  p-value: 1.47e-07 | FDR-corrected p-value: 8.82e-07**\n",
      "   snr_total_qa | Original  p-value:  0.00157 | FDR-corrected p-value:  0.00315**\n",
      "           IOPD | Original  p-value:   0.0565 | FDR-corrected p-value:   0.0565\n",
      "       Seasonal | Original  p-value:   0.0293 | FDR-corrected p-value:   0.0352**\n",
      "\n",
      "\n"
     ]
    },
    {
     "name": "stdout",
     "output_type": "stream",
     "text": [
      "FDR-corrected p-values:\n",
      "            age | Original  p-value:    0.074 | FDR-corrected p-value:   0.0888\n",
      "       sex_male | Original  p-value:  5.7e-13 | FDR-corrected p-value: 3.42e-12**\n",
      "  PatientWeight | Original  p-value:  0.00827 | FDR-corrected p-value:   0.0165**\n",
      "   snr_total_qa | Original  p-value:    0.862 | FDR-corrected p-value:    0.862\n",
      "           IOPD | Original  p-value:   0.0237 | FDR-corrected p-value:   0.0356**\n",
      "       Seasonal | Original  p-value:  0.00374 | FDR-corrected p-value:   0.0112**\n",
      "\n",
      "\n"
     ]
    },
    {
     "data": {
      "text/html": [
       "<div>\n",
       "<style scoped>\n",
       "    .dataframe tbody tr th:only-of-type {\n",
       "        vertical-align: middle;\n",
       "    }\n",
       "\n",
       "    .dataframe tbody tr th {\n",
       "        vertical-align: top;\n",
       "    }\n",
       "\n",
       "    .dataframe thead th {\n",
       "        text-align: right;\n",
       "    }\n",
       "</style>\n",
       "<table border=\"1\" class=\"dataframe\">\n",
       "  <thead>\n",
       "    <tr style=\"text-align: right;\">\n",
       "      <th></th>\n",
       "      <th>Variable</th>\n",
       "      <th>snr_total_qa p value</th>\n",
       "      <th>R2 value</th>\n",
       "    </tr>\n",
       "  </thead>\n",
       "  <tbody>\n",
       "    <tr>\n",
       "      <th>0</th>\n",
       "      <td>Background</td>\n",
       "      <td>0.268868</td>\n",
       "      <td>0.466775</td>\n",
       "    </tr>\n",
       "    <tr>\n",
       "      <th>1</th>\n",
       "      <td>Left-Accumbens-area</td>\n",
       "      <td>0.980640</td>\n",
       "      <td>0.103959</td>\n",
       "    </tr>\n",
       "    <tr>\n",
       "      <th>2</th>\n",
       "      <td>Left-Amygdala</td>\n",
       "      <td>0.462431</td>\n",
       "      <td>0.328001</td>\n",
       "    </tr>\n",
       "    <tr>\n",
       "      <th>3</th>\n",
       "      <td>Left-Caudate</td>\n",
       "      <td>0.088055</td>\n",
       "      <td>0.215853</td>\n",
       "    </tr>\n",
       "    <tr>\n",
       "      <th>4</th>\n",
       "      <td>Left-Hippocampus</td>\n",
       "      <td>0.464155</td>\n",
       "      <td>0.217866</td>\n",
       "    </tr>\n",
       "    <tr>\n",
       "      <th>5</th>\n",
       "      <td>Left-Pallidum</td>\n",
       "      <td>0.563611</td>\n",
       "      <td>0.519885</td>\n",
       "    </tr>\n",
       "    <tr>\n",
       "      <th>6</th>\n",
       "      <td>Left-Putamen</td>\n",
       "      <td>0.464372</td>\n",
       "      <td>0.261736</td>\n",
       "    </tr>\n",
       "    <tr>\n",
       "      <th>7</th>\n",
       "      <td>Left-Thalamus-Proper</td>\n",
       "      <td>0.300834</td>\n",
       "      <td>0.428157</td>\n",
       "    </tr>\n",
       "    <tr>\n",
       "      <th>8</th>\n",
       "      <td>Right-Accumbens-area</td>\n",
       "      <td>0.569273</td>\n",
       "      <td>0.146147</td>\n",
       "    </tr>\n",
       "    <tr>\n",
       "      <th>9</th>\n",
       "      <td>Right-Amygdala</td>\n",
       "      <td>0.748272</td>\n",
       "      <td>0.333926</td>\n",
       "    </tr>\n",
       "    <tr>\n",
       "      <th>10</th>\n",
       "      <td>Right-Caudate</td>\n",
       "      <td>0.079331</td>\n",
       "      <td>0.164622</td>\n",
       "    </tr>\n",
       "    <tr>\n",
       "      <th>11</th>\n",
       "      <td>Right-Hippocampus</td>\n",
       "      <td>0.276829</td>\n",
       "      <td>0.313431</td>\n",
       "    </tr>\n",
       "    <tr>\n",
       "      <th>12</th>\n",
       "      <td>Right-Pallidum</td>\n",
       "      <td>0.452889</td>\n",
       "      <td>0.544089</td>\n",
       "    </tr>\n",
       "    <tr>\n",
       "      <th>13</th>\n",
       "      <td>Right-Putamen</td>\n",
       "      <td>0.602293</td>\n",
       "      <td>0.289170</td>\n",
       "    </tr>\n",
       "    <tr>\n",
       "      <th>14</th>\n",
       "      <td>Right-Thalamus-Proper</td>\n",
       "      <td>0.532933</td>\n",
       "      <td>0.433770</td>\n",
       "    </tr>\n",
       "    <tr>\n",
       "      <th>15</th>\n",
       "      <td>csf</td>\n",
       "      <td>0.030844</td>\n",
       "      <td>0.148003</td>\n",
       "    </tr>\n",
       "    <tr>\n",
       "      <th>16</th>\n",
       "      <td>gray</td>\n",
       "      <td>0.001574</td>\n",
       "      <td>0.242462</td>\n",
       "    </tr>\n",
       "    <tr>\n",
       "      <th>17</th>\n",
       "      <td>white</td>\n",
       "      <td>0.861692</td>\n",
       "      <td>0.276091</td>\n",
       "    </tr>\n",
       "  </tbody>\n",
       "</table>\n",
       "</div>"
      ],
      "text/plain": [
       "                 Variable  snr_total_qa p value  R2 value\n",
       "0              Background              0.268868  0.466775\n",
       "1     Left-Accumbens-area              0.980640  0.103959\n",
       "2           Left-Amygdala              0.462431  0.328001\n",
       "3            Left-Caudate              0.088055  0.215853\n",
       "4        Left-Hippocampus              0.464155  0.217866\n",
       "5           Left-Pallidum              0.563611  0.519885\n",
       "6            Left-Putamen              0.464372  0.261736\n",
       "7    Left-Thalamus-Proper              0.300834  0.428157\n",
       "8    Right-Accumbens-area              0.569273  0.146147\n",
       "9          Right-Amygdala              0.748272  0.333926\n",
       "10          Right-Caudate              0.079331  0.164622\n",
       "11      Right-Hippocampus              0.276829  0.313431\n",
       "12         Right-Pallidum              0.452889  0.544089\n",
       "13          Right-Putamen              0.602293  0.289170\n",
       "14  Right-Thalamus-Proper              0.532933  0.433770\n",
       "15                    csf              0.030844  0.148003\n",
       "16                   gray              0.001574  0.242462\n",
       "17                  white              0.861692  0.276091"
      ]
     },
     "execution_count": 14,
     "metadata": {},
     "output_type": "execute_result"
    }
   ],
   "source": [
    "targets = ['Background', \"Left-Accumbens-area\", \"Left-Amygdala\", \"Left-Caudate\", \"Left-Hippocampus\", \"Left-Pallidum\",\n",
    "                                        \"Left-Putamen\", \"Left-Thalamus-Proper\", \"Right-Accumbens-area\", \n",
    "                                        \"Right-Amygdala\", \"Right-Caudate\", \"Right-Hippocampus\", \"Right-Pallidum\",\n",
    "                                        \"Right-Putamen\", \"Right-Thalamus-Proper\", \"csf\", \"gray\", \"white\"]\n",
    "scrape_var_significance(targets, 'snr_total_qa', July17_df)"
   ]
  },
  {
   "cell_type": "code",
   "execution_count": null,
   "metadata": {},
   "outputs": [],
   "source": [
    "from statsmodels.stats.multitest import fdrcorrection\n",
    "snr_pvals = [0.269, 0.981, 0.462, 0.088, 0.464, 0.564, 0.464, 0.301, 0.569, 0.748, 0.079, 0.276, 0.453, 0.602, \n",
    "         0.533, 0.031, 0.002, 0.862]\n",
    "fdrcorrection(snr_pvals)"
   ]
  },
  {
   "cell_type": "code",
   "execution_count": null,
   "metadata": {
    "scrolled": true
   },
   "outputs": [],
   "source": [
    "scrape_var_significance(targets, 'Seasonal', July17_df)"
   ]
  },
  {
   "cell_type": "code",
   "execution_count": null,
   "metadata": {},
   "outputs": [],
   "source": [
    "season_pvals = [0.182, 0.879, 0.638, 0.955, 0.168, 0.160, 0.087, 0.214, 0.044, 0.973, 0.893, 0.055, 0.081, 0.362, \n",
    "                0.480, 0.059, 0.029, 0.004]\n",
    "fdrcorrection(season_pvals)"
   ]
  },
  {
   "cell_type": "code",
   "execution_count": null,
   "metadata": {},
   "outputs": [],
   "source": [
    "import pandas as pd, statsmodels as sm\n",
    "pd.show_versions();\n",
    "print(\"Statsmodels:  \", sm.__version__)"
   ]
  },
  {
   "cell_type": "code",
   "execution_count": null,
   "metadata": {},
   "outputs": [],
   "source": []
  }
 ],
 "metadata": {
  "kernelspec": {
   "display_name": "Python 3",
   "language": "python",
   "name": "python3"
  },
  "language_info": {
   "codemirror_mode": {
    "name": "ipython",
    "version": 3
   },
   "file_extension": ".py",
   "mimetype": "text/x-python",
   "name": "python",
   "nbconvert_exporter": "python",
   "pygments_lexer": "ipython3",
   "version": "3.7.7"
  }
 },
 "nbformat": 4,
 "nbformat_minor": 2
}
