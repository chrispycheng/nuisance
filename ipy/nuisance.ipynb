{
 "cells": [
  {
   "cell_type": "code",
   "execution_count": 1,
   "metadata": {},
   "outputs": [],
   "source": [
    "import numpy as np\n",
    "import matplotlib.pyplot as plt\n",
    "import pandas as pd\n",
    "import seaborn as sns\n",
    "import statsmodels.api as sm\n",
    "import datetime as dt\n",
    "%matplotlib inline"
   ]
  },
  {
   "cell_type": "code",
   "execution_count": 2,
   "metadata": {},
   "outputs": [],
   "source": [
    "# FUNCTIONS YOU CAN USE:\n",
    "#     analyses(filepath) spits out a nifty heatmap to let you check correlation between variables\n",
    "#\n",
    "#     regress(option, df) churns out a saucy graph of the linear regression for the variables you provided, where\n",
    "#       option is 'snr_total' or 'tsnr', whichever you want to make the dependent variable of your model\n",
    "#       df is the pandas DataFrame containing your data. To modify which variables you want in your model, you'll\n",
    "#             have to directly modify the regress function"
   ]
  },
  {
   "cell_type": "code",
   "execution_count": 3,
   "metadata": {},
   "outputs": [],
   "source": [
    "# NOTABLE FILENAMES\n",
    "# ../data/extractions/p2_BOLD.csv                  - all dates for p2_BOLD\n",
    "# ../data/extractions/p2Xs4X35mm_BOLD.csv          - all dates for p2Xs4X35mm_BOLD\n",
    "# ../data/extractions/anat.csv                     - all possible dates for anatomical data"
   ]
  },
  {
   "cell_type": "code",
   "execution_count": 4,
   "metadata": {},
   "outputs": [],
   "source": [
    "def filter(option, df):\n",
    "    is_p2 = df['Filetype'] == \"task-rest_acq-p2_bold.json\"\n",
    "    is_x = df['Filetype'] == \"task-rest_acq-p2Xs4X35mm_bold.json\"\n",
    "    \n",
    "    if option == 'x':\n",
    "        return df[is_x]\n",
    "    elif option == 'p2':\n",
    "        return df[is_p2]"
   ]
  },
  {
   "cell_type": "code",
   "execution_count": 5,
   "metadata": {},
   "outputs": [],
   "source": [
    "def analyses(filepath):\n",
    "    files = pd.read_csv(filepath)\n",
    "    \n",
    "    # FIRST CHECK: CONVERSION SOFTWARE VERSIONS\n",
    "    check = files.iloc[0, 7]\n",
    "    valid = True\n",
    "    \n",
    "    for i in files.index:\n",
    "        if check != files.iloc[i, 7]:\n",
    "            valid = False\n",
    "            \n",
    "    print(\"All Conversion Softwares are the same: \" + str(valid))\n",
    "    \n",
    "    # SECOND CHECK: HEATMAP\n",
    "    sns.heatmap(files.corr(), cmap=sns.diverging_palette(h_neg=240, h_pos=10, n=9, sep=1, center=\"dark\"), center=0)"
   ]
  },
  {
   "cell_type": "code",
   "execution_count": 42,
   "metadata": {},
   "outputs": [],
   "source": [
    "def regress(option, df):\n",
    "    # creates a regression graph plotted against actual data from certain QA metrics\n",
    "    # option: takes str value of either snr_total or tsnr to model against\n",
    "    # df    : takes pandas DataFrame with data\n",
    "    \n",
    "    # checks parameters passed in\n",
    "    if option != 'snr_total' and option != 'tsnr':\n",
    "        return \"Option must be snr_total or tsnr\"\n",
    "    \n",
    "    elif type(df) is not pd.core.frame.DataFrame:\n",
    "        return \"DataFrame must be of type pandas.core.frame.DataFrame\"\n",
    "    \n",
    "    # preparing sin and cos curves to add to the model\n",
    "    n = len(df)\n",
    "    date = str(df.iat[0,0])\n",
    "    values = [np.sin(np.pi*i/(26)) for i in range(n)]\n",
    "    values2 = [np.cos(np.pi*i/(26)) for i in range(n)]\n",
    "    dates = [dt.datetime(int(date[:4]), int(date[4:6]), int(date[6:])) + dt.timedelta(days = i*7) for i in range(n)]\n",
    "\n",
    "    sin = pd.DataFrame(values)\n",
    "    sin.columns = ['seasonal (sin)']\n",
    "    \n",
    "    cos = pd.DataFrame(values2)\n",
    "    cos.columns = ['seasonal (cos)']\n",
    "    \n",
    "    df = df.join(sin)\n",
    "    df = df.join(cos)\n",
    "    \n",
    "    # Converting date to a format that can be parsed by statsmodels API\n",
    "    df['Date'] = pd.to_datetime(df['Date'], format=\"%Y%m%d\")\n",
    "    df['Date2'] = df['Date'].map(pd.datetime.toordinal)\n",
    "    \n",
    "    # Assigning independent and dependent variables\n",
    "    list = []\n",
    "    \n",
    "    for item in df.std().iteritems():\n",
    "        if item[0] != 'Date' and item[0] != option and item[1] != 0:\n",
    "            list.append(item[0])\n",
    "    \n",
    "    X = df[list]\n",
    "    X = sm.add_constant(X)\n",
    "    y = df[option]\n",
    "    \n",
    "    # modeling predictions\n",
    "    model = sm.OLS(y, X).fit()\n",
    "    predictions = model.predict(X)\n",
    "    \n",
    "    # converting the above predictions to a format that can be plotted\n",
    "    prediction = predictions.to_frame()\n",
    "    prediction.columns = ['model']\n",
    "    df2 = df.join(prediction)\n",
    "    \n",
    "    # plotting the graph\n",
    "    plt.figure(figsize=(15, 6))\n",
    "\n",
    "    ax = sns.lineplot(x=\"Date\", y=option, data=df2, color=\"#ff9933\")\n",
    "    ax_txrefamp = plt.twinx()\n",
    "    sns.lineplot(x=\"Date\", y=\"model\", data=df2, color=\"r\", ax=ax)\n",
    "    ax.legend([option, 'predicted value'])\n",
    "\n",
    "    plt.plot(dates,values, color='#A9A9A9', label=\"seasonal (sin)\")\n",
    "    plt.plot(dates,values2, color='#A9A9A9', label=\"seasonal (cos)\")\n",
    "    plt.legend(['seasonal (sin)', 'seasonal (cos)'], loc='upper left')\n",
    "    \n",
    "    # giving additional data\n",
    "    print(model.summary())\n",
    "    \n",
    "    if 'Shim1' and 'Shim2' and 'Shim3' and 'Shim4' and 'Shim5' and 'Shim6' and 'Shim7' and 'Shim8' in list:\n",
    "        print(\"Shim F-test: \")\n",
    "        print(model.f_test(\"Shim1 = Shim2 = Shim3 = Shim4 = Shim5 = Shim6 = Shim7 = Shim8 = 0\"))\n",
    "    \n",
    "    if 'IOPD1' and 'IOPD2' and 'IOPD3' and 'IOPD4' and 'IOPD5' and 'IOPD6' in list:\n",
    "        print(\"IOPD F-test: \")\n",
    "        print(model.f_test(\"IOPD1 = IOPD2 = IOPD3 = IOPD4 = IOPD5 = IOPD6 = 0\"))\n",
    "    \n",
    "    print(\"Seasonal F-test:\")\n",
    "    print(model.f_test(\"seasonal (sin) = seasonal (cos) = 0\"))"
   ]
  },
  {
   "cell_type": "code",
   "execution_count": 6,
   "metadata": {
    "scrolled": true
   },
   "outputs": [
    {
     "name": "stdout",
     "output_type": "stream",
     "text": [
      "All Conversion Softwares are the same: True\n"
     ]
    },
    {
     "data": {
      "image/png": "[encoded data removed]",
      "text/plain": [
       "<Figure size 432x288 with 2 Axes>"
      ]
     },
     "metadata": {},
     "output_type": "display_data"
    }
   ],
   "source": [
    "analyses('../data/extractions/p2_BOLD.csv')"
   ]
  },
  {
   "cell_type": "code",
   "execution_count": 7,
   "metadata": {},
   "outputs": [
    {
     "name": "stdout",
     "output_type": "stream",
     "text": [
      "All Conversion Softwares are the same: True\n"
     ]
    },
    {
     "data": {
      "image/png": "[encoded data removed]",
      "text/plain": [
       "<Figure size 432x288 with 2 Axes>"
      ]
     },
     "metadata": {},
     "output_type": "display_data"
    }
   ],
   "source": [
    "analyses('../data/extractions/p2_BOLD_snr.csv')"
   ]
  },
  {
   "cell_type": "code",
   "execution_count": 6,
   "metadata": {},
   "outputs": [],
   "source": [
    "files = pd.read_csv('../data/extractions/p2_BOLD.csv')\n",
    "df = pd.DataFrame(files,columns=['Date', 'tsnr', 'TxRefAmp', 'AcquisitionTime', 'SAR',\n",
    "                                'RepetitionTime', 'Shim1', 'Shim2', 'Shim3', 'Shim4',\n",
    "                                'Shim5', 'Shim6', 'Shim7', 'Shim8'])"
   ]
  },
  {
   "cell_type": "code",
   "execution_count": 7,
   "metadata": {},
   "outputs": [],
   "source": [
    "# p2Xs4X35mm_BOLD.csv\n",
    "files2 = pd.read_csv('../data/extractions/p2Xs4X35mm_BOLD.csv')\n",
    "df2 = pd.DataFrame(files2,columns=['Date', 'tsnr', 'TxRefAmp', 'AcquisitionTime', 'SAR',\n",
    "                                'RepetitionTime', 'Shim1', 'Shim2', 'Shim3', 'Shim4',\n",
    "                                'Shim5', 'Shim6', 'Shim7', 'Shim8'])"
   ]
  },
  {
   "cell_type": "code",
   "execution_count": 44,
   "metadata": {},
   "outputs": [],
   "source": [
    "files3 = pd.read_csv('../data/extractions/anat.csv')\n",
    "df3 = pd.DataFrame(files3,columns=['Date', 'snr_total', 'TxRefAmp', 'AcquisitionTime', 'SAR',\n",
    "                                'RepetitionTime', 'Shim1', 'Shim2', 'Shim3', 'Shim4',\n",
    "                                'Shim5', 'Shim6', 'Shim7', 'Shim8', 'IOPD1', 'IOPD2', 'IOPD3', 'IOPD4',\n",
    "                                'IOPD5', 'IOPD6'])"
   ]
  },
  {
   "cell_type": "code",
   "execution_count": null,
   "metadata": {},
   "outputs": [],
   "source": []
  }
 ],
 "metadata": {
  "kernelspec": {
   "display_name": "Python 3",
   "language": "python",
   "name": "python3"
  },
  "language_info": {
   "codemirror_mode": {
    "name": "ipython",
    "version": 3
   },
   "file_extension": ".py",
   "mimetype": "text/x-python",
   "name": "python",
   "nbconvert_exporter": "python",
   "pygments_lexer": "ipython3",
   "version": "3.6.4"
  }
 },
 "nbformat": 4,
 "nbformat_minor": 2
}
